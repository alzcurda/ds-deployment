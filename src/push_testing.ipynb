{
 "cells": [
  {
   "metadata": {
    "ExecuteTime": {
     "end_time": "2024-11-26T08:41:31.610818Z",
     "start_time": "2024-11-26T08:41:31.469619Z"
    }
   },
   "cell_type": "code",
   "source": "!which python",
   "id": "f5eb35243a90b60f",
   "outputs": [
    {
     "name": "stdout",
     "output_type": "stream",
     "text": [
      "/Users/apabook/Desktop/ds-deployment/.venv/bin/python\r\n"
     ]
    }
   ],
   "execution_count": 24
  },
  {
   "metadata": {
    "collapsed": true,
    "ExecuteTime": {
     "end_time": "2024-11-26T08:41:31.620426Z",
     "start_time": "2024-11-26T08:41:31.618204Z"
    }
   },
   "cell_type": "code",
   "source": [
    "import pandas as pd\n",
    "import requests\n",
    "import json\n",
    "import pprint\n"
   ],
   "id": "initial_id",
   "outputs": [],
   "execution_count": 25
  },
  {
   "metadata": {},
   "cell_type": "markdown",
   "source": [
    "# Testing HL Api for PUSH transfer\n",
    "\n",
    "---"
   ],
   "id": "d606bf0c35b91005"
  },
  {
   "metadata": {},
   "cell_type": "markdown",
   "source": "## Consts",
   "id": "249fc7af32f10612"
  },
  {
   "metadata": {
    "ExecuteTime": {
     "end_time": "2024-11-26T08:41:31.634071Z",
     "start_time": "2024-11-26T08:41:31.632026Z"
    }
   },
   "cell_type": "code",
   "source": [
    "data_space_provider = \"http://127.0.0.1:1234\"\n",
    "data_space_consumer = \"http://127.0.0.1:1235\"\n",
    "context_broker = \"http://fiware-orion:1026\"\n",
    "streaming_processor = \"http://streaming-testing-service:1237\"\n",
    "\n",
    "catalog_id = \"\"\n",
    "dataservice_id = \"\"\n",
    "agreement_id = \"\"\n",
    "agreement_pid = \"\""
   ],
   "id": "4230628fecab09a1",
   "outputs": [],
   "execution_count": 26
  },
  {
   "metadata": {},
   "cell_type": "markdown",
   "source": "## Setup Catalog, Dataservice and agreements",
   "id": "a128721267853968"
  },
  {
   "metadata": {
    "ExecuteTime": {
     "end_time": "2024-11-26T08:41:31.674911Z",
     "start_time": "2024-11-26T08:41:31.637532Z"
    }
   },
   "cell_type": "code",
   "source": [
    "payload = {\n",
    "    \"foaf:homepage\": \"My catalog in Dataspace provider\",\n",
    "    \"dct:title\": \"My catalog in Dataspace provider\"\n",
    "}\n",
    "headers = {\n",
    "    \"Content-Type\": \"application/json\",\n",
    "}\n",
    "url = data_space_provider + \"/api/v1/catalogs\"\n",
    "response = requests.request(\"POST\", url, headers=headers, data=json.dumps(payload))\n",
    "response_as_json = response.json()\n",
    "catalog_id = response_as_json[\"@id\"]\n",
    "\n",
    "pprint.pprint(response.json())"
   ],
   "id": "2fabc6eafbe80045",
   "outputs": [
    {
     "name": "stdout",
     "output_type": "stream",
     "text": [
      "{'@context': 'https://w3id.org/dspace/2024/1/context.json',\n",
      " '@id': 'c138d70b-518d-49d2-ab4b-72a07c3f7e76',\n",
      " '@type': 'dcat:Catalog',\n",
      " 'dcat:dataset': [],\n",
      " 'dcat:keyword': '',\n",
      " 'dcat:service': [],\n",
      " 'dcat:theme': '',\n",
      " 'dct:conformsTo': None,\n",
      " 'dct:creator': None,\n",
      " 'dct:description': [],\n",
      " 'dct:identifier': 'c138d70b-518d-49d2-ab4b-72a07c3f7e76',\n",
      " 'dct:issued': '2024-11-26T08:41:31.658554',\n",
      " 'dct:modified': None,\n",
      " 'dct:title': 'My catalog in Dataspace provider',\n",
      " 'dspace:extraFields': None,\n",
      " 'dspace:participantId': None,\n",
      " 'foaf:homepage': 'My catalog in Dataspace provider',\n",
      " 'odrl:hasPolicy': None}\n"
     ]
    }
   ],
   "execution_count": 27
  },
  {
   "metadata": {
    "ExecuteTime": {
     "end_time": "2024-11-26T08:41:31.795481Z",
     "start_time": "2024-11-26T08:41:31.761582Z"
    }
   },
   "cell_type": "code",
   "source": [
    "suscription_payload = {\n",
    "    \"description\": \"Air Quality Unit Subscription\",\n",
    "    \"subject\": {\n",
    "        \"entities\":[\n",
    "            {\"idPattern\":\".*\",\"type\":\"AirQualityUnit\"}],\n",
    "        \"condition\": {\n",
    "            \"attrs\":[\"CO\"]\n",
    "        }\n",
    "    },\n",
    "    \"notification\": {\n",
    "        \"http\": {\n",
    "            \"url\":\"$data_url\",\n",
    "        },\n",
    "    },\n",
    "    \"expires\":\"2040-01-01T14:00:00.00Z\",\n",
    "    \"throttling\":5\n",
    "}\n",
    "payload = {\n",
    "    \"dcat:endpointURL\": context_broker + \"/v2/subscriptions\",\n",
    "    \"dcat:endpointDescription\": json.dumps(suscription_payload),\n",
    "}\n",
    "headers = {\n",
    "    \"Content-Type\": \"application/json\",\n",
    "}\n",
    "url = data_space_provider + \"/api/v1/catalogs/\" + catalog_id + \"/data-services\"\n",
    "response = requests.request(\"POST\", url, headers=headers, data=json.dumps(payload))\n",
    "response_as_json = response.json()\n",
    "dataservice_id = response_as_json[\"@id\"]\n",
    "\n",
    "pprint.pprint(response.json())"
   ],
   "id": "5bb00d1a6e7ae7fe",
   "outputs": [
    {
     "name": "stdout",
     "output_type": "stream",
     "text": [
      "{'@context': 'https://w3id.org/dspace/2024/1/context.json',\n",
      " '@id': '9eeecf77-f8fb-4d0b-a661-89901e79c532',\n",
      " '@type': 'dcat:DataService',\n",
      " 'dcat:endpointDescription': '{\"description\": \"Air Quality Unit Subscription\", '\n",
      "                             '\"subject\": {\"entities\": [{\"idPattern\": \".*\", '\n",
      "                             '\"type\": \"AirQualityUnit\"}], \"condition\": '\n",
      "                             '{\"attrs\": [\"CO\"]}}, \"notification\": {\"http\": '\n",
      "                             '{\"url\": \"$data_url\"}}, \"expires\": '\n",
      "                             '\"2040-01-01T14:00:00.00Z\", \"throttling\": 5}',\n",
      " 'dcat:endpointURL': 'http://fiware-orion:1026/v2/subscriptions',\n",
      " 'dcat:keyword': '',\n",
      " 'dcat:theme': '',\n",
      " 'dct:conformsTo': None,\n",
      " 'dct:creator': None,\n",
      " 'dct:description': [],\n",
      " 'dct:identifier': '9eeecf77-f8fb-4d0b-a661-89901e79c532',\n",
      " 'dct:issued': '2024-11-26T08:41:31.782679',\n",
      " 'dct:modified': None,\n",
      " 'dct:title': None,\n",
      " 'dspace:extraFields': None,\n",
      " 'odrl:hasPolicy': None}\n"
     ]
    }
   ],
   "execution_count": 28
  },
  {
   "metadata": {
    "ExecuteTime": {
     "end_time": "2024-11-26T08:41:31.913448Z",
     "start_time": "2024-11-26T08:41:31.881383Z"
    }
   },
   "cell_type": "code",
   "source": [
    "payload = {\n",
    "    \"dataServiceId\": dataservice_id\n",
    "}\n",
    "headers = {\n",
    "    \"Content-Type\": \"application/json\",\n",
    "}\n",
    "url = data_space_provider + \"/api/v1/agreements\"\n",
    "response = requests.request(\"POST\", url, headers=headers, data=json.dumps(payload))\n",
    "response_as_json = response.json()\n",
    "agreement_id = response_as_json[\"agreement_id\"]\n",
    "agreement_pid = \"urn:uuid:\" + agreement_id\n",
    "\n",
    "pprint.pprint(response.json())"
   ],
   "id": "8195a5dbe52064ed",
   "outputs": [
    {
     "name": "stdout",
     "output_type": "stream",
     "text": [
      "{'agreement_id': 'fb85e143-b25d-4193-af56-693413936a47',\n",
      " 'data_service_id': '9eeecf77-f8fb-4d0b-a661-89901e79c532',\n",
      " 'identity': None,\n",
      " 'identity_token': None}\n"
     ]
    }
   ],
   "execution_count": 29
  },
  {
   "metadata": {},
   "cell_type": "markdown",
   "source": "## Setup transfer",
   "id": "f4525c74cc0623aa"
  },
  {
   "metadata": {
    "ExecuteTime": {
     "end_time": "2024-11-26T08:41:32.038566Z",
     "start_time": "2024-11-26T08:41:32.004029Z"
    }
   },
   "cell_type": "code",
   "source": [
    "url = data_space_consumer + \"/api/v1/setup-transfer\"\n",
    "\n",
    "payload = \"\"\n",
    "headers = {}\n",
    "response = requests.request(\"POST\", url, headers=headers, data=payload)\n",
    "callbackAddress = response.json()[\"callbackAddress\"]\n",
    "callbackId = response.json()[\"callbackId\"]\n",
    "consumerPid = response.json()[\"consumerPid\"]\n",
    "\n",
    "pprint.pprint(response.json())"
   ],
   "id": "9bbec26ab424add2",
   "outputs": [
    {
     "name": "stdout",
     "output_type": "stream",
     "text": [
      "{'callbackAddress': 'http://ds-consumer:1235/710bd106-e8fa-4fa7-900b-86026c8d5c06',\n",
      " 'callbackId': '710bd106-e8fa-4fa7-900b-86026c8d5c06',\n",
      " 'consumerPid': 'urn:uuid:5d2ec721-4cb2-4735-9141-59acfbfded12'}\n"
     ]
    }
   ],
   "execution_count": 30
  },
  {
   "metadata": {},
   "cell_type": "markdown",
   "source": "## Request transfer",
   "id": "18541388a3b2edfd"
  },
  {
   "metadata": {
    "ExecuteTime": {
     "end_time": "2024-11-26T08:41:32.222431Z",
     "start_time": "2024-11-26T08:41:32.137848Z"
    }
   },
   "cell_type": "code",
   "source": [
    "url = data_space_consumer + \"/api/v1/request-transfer\"\n",
    "\n",
    "payload = json.dumps({\n",
    "    \"agreementId\": agreement_pid,\n",
    "    \"format\": \"fiware+push\",\n",
    "    \"dataAddress\": {\n",
    "        \"@type\": \"dspace:DataAddress\",\n",
    "        \"dspace:endpoint\": streaming_processor + \"/data-client\",\n",
    "        \"dspace:endpointType\": \"HTTP\",\n",
    "        \"dspace:endpointProperties\": []\n",
    "    },\n",
    "    \"callbackAddress\": callbackAddress,\n",
    "    \"callbackId\": callbackId,\n",
    "    \"consumerPid\": consumerPid\n",
    "})\n",
    "headers = {\n",
    "  'Content-Type': 'application/json'\n",
    "}\n",
    "\n",
    "response = requests.request(\"POST\", url, headers=headers, data=payload)\n",
    "\n",
    "pprint.pprint(response.json())\n"
   ],
   "id": "b77d3288a12ce247",
   "outputs": [
    {
     "name": "stdout",
     "output_type": "stream",
     "text": [
      "{'consumerPid': 'urn:uuid:5d2ec721-4cb2-4735-9141-59acfbfded12',\n",
      " 'transferProcess': {'@context': 'https://w3id.org/dspace/2024/1/context.json',\n",
      "                     '@type': 'dspace:TransferProcess',\n",
      "                     'dspace:consumerPid': 'urn:uuid:5d2ec721-4cb2-4735-9141-59acfbfded12',\n",
      "                     'dspace:providerPid': 'urn:uuid:3712845c-27c1-4532-916d-70ee1098ee67',\n",
      "                     'dspace:state': 'dspace:REQUESTED'}}\n"
     ]
    }
   ],
   "execution_count": 31
  },
  {
   "metadata": {},
   "cell_type": "markdown",
   "source": "#### For seeing how the push service is working, please check the logs in the streaming-testing-service",
   "id": "88899432130f675f"
  },
  {
   "metadata": {},
   "cell_type": "markdown",
   "source": "## Suspend transfer",
   "id": "8cd90897a001831e"
  },
  {
   "metadata": {
    "ExecuteTime": {
     "end_time": "2024-11-26T08:41:32.294496Z",
     "start_time": "2024-11-26T08:41:32.270003Z"
    }
   },
   "cell_type": "code",
   "source": [
    "url = data_space_consumer + \"/api/v1/suspend-transfer\"\n",
    "\n",
    "payload = json.dumps({\n",
    "  \"consumerPid\": consumerPid\n",
    "})\n",
    "headers = {\n",
    "  'Content-Type': 'application/json'\n",
    "}\n",
    "\n",
    "response = requests.request(\"POST\", url, headers=headers, data=payload)\n",
    "\n",
    "pprint.pprint(response.json())"
   ],
   "id": "81a20f6fad26c983",
   "outputs": [
    {
     "name": "stdout",
     "output_type": "stream",
     "text": [
      "{'consumerPid': 'urn:uuid:5d2ec721-4cb2-4735-9141-59acfbfded12',\n",
      " 'transferProcess': {'@context': 'https://w3id.org/dspace/2024/1/context.json',\n",
      "                     '@type': 'dspace:TransferProcess',\n",
      "                     'dspace:consumerPid': 'urn:uuid:5d2ec721-4cb2-4735-9141-59acfbfded12',\n",
      "                     'dspace:providerPid': 'urn:uuid:3712845c-27c1-4532-916d-70ee1098ee67',\n",
      "                     'dspace:state': 'dspace:SUSPENDED'}}\n"
     ]
    }
   ],
   "execution_count": 32
  },
  {
   "metadata": {},
   "cell_type": "markdown",
   "source": [
    "## Test data access has been suspended\n",
    "\n",
    "**Disclaimer**: Data shouldn't appear. But for this deployment does appear because an internal refactor we're facing.\n",
    "In a couple of days this functionality will work like is expected."
   ],
   "id": "5dbfb9a2eedf5a3d"
  },
  {
   "metadata": {},
   "cell_type": "markdown",
   "source": "#### For seeing how the push service is no longer receiving data, please check the logs in the streaming-testing-service",
   "id": "aa9bf04b5659ddbd"
  },
  {
   "metadata": {},
   "cell_type": "markdown",
   "source": "## Restart transfer",
   "id": "1bae8e1bf5c49bcb"
  },
  {
   "metadata": {
    "ExecuteTime": {
     "end_time": "2024-11-26T08:41:32.416774Z",
     "start_time": "2024-11-26T08:41:32.396179Z"
    }
   },
   "cell_type": "code",
   "source": [
    "url = data_space_consumer + \"/api/v1/restart-transfer\"\n",
    "\n",
    "payload = json.dumps({\n",
    "  \"consumerPid\": consumerPid\n",
    "})\n",
    "headers = {\n",
    "  'Content-Type': 'application/json'\n",
    "}\n",
    "\n",
    "response = requests.request(\"POST\", url, headers=headers, data=payload)\n",
    "\n",
    "pprint.pprint(response.json())"
   ],
   "id": "89bc201efc2bd622",
   "outputs": [
    {
     "name": "stdout",
     "output_type": "stream",
     "text": [
      "{'consumerPid': 'urn:uuid:5d2ec721-4cb2-4735-9141-59acfbfded12',\n",
      " 'transferProcess': {'@context': 'https://w3id.org/dspace/2024/1/context.json',\n",
      "                     '@type': 'dspace:TransferProcess',\n",
      "                     'dspace:consumerPid': 'urn:uuid:5d2ec721-4cb2-4735-9141-59acfbfded12',\n",
      "                     'dspace:providerPid': 'urn:uuid:3712845c-27c1-4532-916d-70ee1098ee67',\n",
      "                     'dspace:state': 'dspace:STARTED'}}\n"
     ]
    }
   ],
   "execution_count": 33
  },
  {
   "metadata": {},
   "cell_type": "markdown",
   "source": "## Test data is accessible again",
   "id": "c912368502ca728c"
  },
  {
   "metadata": {},
   "cell_type": "markdown",
   "source": "#### For seeing how the push service is working, please check the logs in the streaming-testing-service",
   "id": "eac33c8a84b6a956"
  },
  {
   "metadata": {},
   "cell_type": "markdown",
   "source": "## Complete transfer",
   "id": "b6a0cec99e7c17b2"
  },
  {
   "metadata": {
    "ExecuteTime": {
     "end_time": "2024-11-26T08:41:32.550937Z",
     "start_time": "2024-11-26T08:41:32.526246Z"
    }
   },
   "cell_type": "code",
   "source": [
    "url = data_space_consumer + \"/api/v1/complete-transfer\"\n",
    "\n",
    "payload = json.dumps({\n",
    "  \"consumerPid\": consumerPid\n",
    "})\n",
    "headers = {\n",
    "  'Content-Type': 'application/json'\n",
    "}\n",
    "\n",
    "response = requests.request(\"POST\", url, headers=headers, data=payload)\n",
    "\n",
    "pprint.pprint(response.json())"
   ],
   "id": "c21cace19c0e0b30",
   "outputs": [
    {
     "name": "stdout",
     "output_type": "stream",
     "text": [
      "{'consumerPid': 'urn:uuid:5d2ec721-4cb2-4735-9141-59acfbfded12',\n",
      " 'transferProcess': {'@context': 'https://w3id.org/dspace/2024/1/context.json',\n",
      "                     '@type': 'dspace:TransferProcess',\n",
      "                     'dspace:consumerPid': 'urn:uuid:5d2ec721-4cb2-4735-9141-59acfbfded12',\n",
      "                     'dspace:providerPid': 'urn:uuid:3712845c-27c1-4532-916d-70ee1098ee67',\n",
      "                     'dspace:state': 'dspace:COMPLETED'}}\n"
     ]
    }
   ],
   "execution_count": 34
  },
  {
   "metadata": {},
   "cell_type": "markdown",
   "source": "## Data is not accessible",
   "id": "562e38f8030d1a70"
  },
  {
   "metadata": {},
   "cell_type": "markdown",
   "source": "#### For seeing how the push service is no longer receiving data, please check the logs in the streaming-testing-service",
   "id": "d61ebf416f44ca23"
  },
  {
   "metadata": {},
   "cell_type": "markdown",
   "source": "## Protocol state cannot change",
   "id": "59f9a127a11c5870"
  },
  {
   "metadata": {
    "ExecuteTime": {
     "end_time": "2024-11-26T08:41:32.684939Z",
     "start_time": "2024-11-26T08:41:32.660794Z"
    }
   },
   "cell_type": "code",
   "source": [
    "url = data_space_consumer + \"/api/v1/restart-transfer\"\n",
    "\n",
    "payload = json.dumps({\n",
    "  \"consumerPid\": consumerPid\n",
    "})\n",
    "headers = {\n",
    "  'Content-Type': 'application/json'\n",
    "}\n",
    "\n",
    "response = requests.request(\"POST\", url, headers=headers, data=payload)\n",
    "\n",
    "pprint.pprint(response.json())"
   ],
   "id": "fe5042010fcfd9bf",
   "outputs": [
    {
     "name": "stdout",
     "output_type": "stream",
     "text": [
      "{'consumerPid': 'urn:uuid:5d2ec721-4cb2-4735-9141-59acfbfded12',\n",
      " 'error': {'@context': 'https://w3id.org/dspace/2024/1/context.json',\n",
      "           '@type': 'dspace:TransferError',\n",
      "           'dspace:code': 'TRANSFER_ERROR_CODE',\n",
      "           'dspace:consumerPid': '123',\n",
      "           'dspace:providerPid': '123',\n",
      "           'dspace:reason': ['Protocol Error. dspace:TransferRequestMessage is '\n",
      "                             'not allowed here. Current state is '\n",
      "                             'dspace:COMPLETED']}}\n"
     ]
    }
   ],
   "execution_count": 35
  },
  {
   "metadata": {
    "ExecuteTime": {
     "end_time": "2024-11-26T08:41:32.880681Z",
     "start_time": "2024-11-26T08:41:32.879278Z"
    }
   },
   "cell_type": "code",
   "source": "",
   "id": "4cf907ee29639c57",
   "outputs": [],
   "execution_count": null
  }
 ],
 "metadata": {
  "kernelspec": {
   "display_name": "Python 3",
   "language": "python",
   "name": "python3"
  },
  "language_info": {
   "codemirror_mode": {
    "name": "ipython",
    "version": 2
   },
   "file_extension": ".py",
   "mimetype": "text/x-python",
   "name": "python",
   "nbconvert_exporter": "python",
   "pygments_lexer": "ipython2",
   "version": "2.7.6"
  }
 },
 "nbformat": 4,
 "nbformat_minor": 5
}
