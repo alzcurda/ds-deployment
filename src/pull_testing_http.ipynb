{
 "cells": [
  {
   "metadata": {
    "ExecuteTime": {
     "end_time": "2024-11-28T15:02:36.378588Z",
     "start_time": "2024-11-28T15:02:36.237109Z"
    }
   },
   "cell_type": "code",
   "source": [
    "from operator import index\n",
    "!which python"
   ],
   "id": "f5eb35243a90b60f",
   "outputs": [
    {
     "name": "stdout",
     "output_type": "stream",
     "text": [
      "/Users/apabook/Desktop/ds-deployment/.venv/bin/python\r\n"
     ]
    }
   ],
   "execution_count": 84
  },
  {
   "metadata": {
    "collapsed": true,
    "ExecuteTime": {
     "end_time": "2024-11-28T15:02:36.385398Z",
     "start_time": "2024-11-28T15:02:36.382834Z"
    }
   },
   "cell_type": "code",
   "source": [
    "import pandas as pd\n",
    "import requests\n",
    "import json\n",
    "import pprint\n"
   ],
   "id": "initial_id",
   "outputs": [],
   "execution_count": 85
  },
  {
   "metadata": {},
   "cell_type": "markdown",
   "source": [
    "# Testing HL Api for PULL transfer\n",
    "\n",
    "---"
   ],
   "id": "d606bf0c35b91005"
  },
  {
   "metadata": {},
   "cell_type": "markdown",
   "source": "## Consts",
   "id": "249fc7af32f10612"
  },
  {
   "metadata": {
    "ExecuteTime": {
     "end_time": "2024-11-28T15:02:36.397781Z",
     "start_time": "2024-11-28T15:02:36.395735Z"
    }
   },
   "cell_type": "code",
   "source": [
    "data_space_provider = \"http://127.0.0.1:1234\"\n",
    "data_space_consumer = \"http://127.0.0.1:1235\"\n",
    "\n",
    "catalog_id = \"\"\n",
    "dataservice_id = \"\"\n",
    "agreement_id = \"\"\n",
    "agreement_pid = \"\""
   ],
   "id": "4230628fecab09a1",
   "outputs": [],
   "execution_count": 86
  },
  {
   "metadata": {},
   "cell_type": "markdown",
   "source": "## Setup Catalog, Dataservice and agreements",
   "id": "a128721267853968"
  },
  {
   "metadata": {
    "ExecuteTime": {
     "end_time": "2024-11-28T15:02:36.473045Z",
     "start_time": "2024-11-28T15:02:36.404783Z"
    }
   },
   "cell_type": "code",
   "source": [
    "payload = {\n",
    "    \"foaf:homepage\": \"My catalog in Dataspace provider\",\n",
    "    \"dct:title\": \"My catalog in Dataspace provider\"\n",
    "}\n",
    "headers = {\n",
    "    \"Content-Type\": \"application/json\",\n",
    "}\n",
    "url = data_space_provider + \"/api/v1/catalogs\"\n",
    "response = requests.request(\"POST\", url, headers=headers, data=json.dumps(payload))\n",
    "response_as_json = response.json()\n",
    "catalog_id = response_as_json[\"@id\"]\n",
    "\n",
    "pprint.pprint(response.json())"
   ],
   "id": "2fabc6eafbe80045",
   "outputs": [
    {
     "name": "stdout",
     "output_type": "stream",
     "text": [
      "{'@context': 'https://w3id.org/dspace/2024/1/context.json',\n",
      " '@id': '982d9012-d904-493d-9efc-42d9de53443d',\n",
      " '@type': 'dcat:Catalog',\n",
      " 'dcat:dataset': [],\n",
      " 'dcat:keyword': '',\n",
      " 'dcat:service': [],\n",
      " 'dcat:theme': '',\n",
      " 'dct:conformsTo': None,\n",
      " 'dct:creator': None,\n",
      " 'dct:description': [],\n",
      " 'dct:identifier': '982d9012-d904-493d-9efc-42d9de53443d',\n",
      " 'dct:issued': '2024-11-28T15:02:36.467676',\n",
      " 'dct:modified': None,\n",
      " 'dct:title': 'My catalog in Dataspace provider',\n",
      " 'dspace:extraFields': None,\n",
      " 'dspace:participantId': None,\n",
      " 'foaf:homepage': 'My catalog in Dataspace provider',\n",
      " 'odrl:hasPolicy': None}\n"
     ]
    }
   ],
   "execution_count": 87
  },
  {
   "metadata": {
    "ExecuteTime": {
     "end_time": "2024-11-28T15:02:36.567378Z",
     "start_time": "2024-11-28T15:02:36.485638Z"
    }
   },
   "cell_type": "code",
   "source": [
    "payload = {\n",
    "    \"dcat:endpointURL\": \"http://api-test:3000\"\n",
    "}\n",
    "headers = {\n",
    "    \"Content-Type\": \"application/json\",\n",
    "}\n",
    "url = data_space_provider + \"/api/v1/catalogs/\" + catalog_id + \"/data-services\"\n",
    "response = requests.request(\"POST\", url, headers=headers, data=json.dumps(payload))\n",
    "response_as_json = response.json()\n",
    "dataservice_id = response_as_json[\"@id\"]\n",
    "\n",
    "pprint.pprint(response.json())"
   ],
   "id": "5bb00d1a6e7ae7fe",
   "outputs": [
    {
     "name": "stdout",
     "output_type": "stream",
     "text": [
      "{'@context': 'https://w3id.org/dspace/2024/1/context.json',\n",
      " '@id': 'be8ab8ff-4c30-4014-beb4-aaf0e66c8d9e',\n",
      " '@type': 'dcat:DataService',\n",
      " 'dcat:endpointDescription': '',\n",
      " 'dcat:endpointURL': 'http://api-test:3000',\n",
      " 'dcat:keyword': '',\n",
      " 'dcat:theme': '',\n",
      " 'dct:conformsTo': None,\n",
      " 'dct:creator': None,\n",
      " 'dct:description': [],\n",
      " 'dct:identifier': 'be8ab8ff-4c30-4014-beb4-aaf0e66c8d9e',\n",
      " 'dct:issued': '2024-11-28T15:02:36.539920',\n",
      " 'dct:modified': None,\n",
      " 'dct:title': None,\n",
      " 'dspace:extraFields': None,\n",
      " 'odrl:hasPolicy': None}\n"
     ]
    }
   ],
   "execution_count": 88
  },
  {
   "metadata": {
    "ExecuteTime": {
     "end_time": "2024-11-28T15:02:36.591567Z",
     "start_time": "2024-11-28T15:02:36.579072Z"
    }
   },
   "cell_type": "code",
   "source": [
    "payload = {\n",
    "    \"dataServiceId\": dataservice_id\n",
    "}\n",
    "headers = {\n",
    "    \"Content-Type\": \"application/json\",\n",
    "}\n",
    "url = data_space_provider + \"/api/v1/agreements\"\n",
    "response = requests.request(\"POST\", url, headers=headers, data=json.dumps(payload))\n",
    "response_as_json = response.json()\n",
    "agreement_id = response_as_json[\"agreement_id\"]\n",
    "agreement_pid = \"urn:uuid:\" + agreement_id\n",
    "\n",
    "pprint.pprint(response.json())"
   ],
   "id": "8195a5dbe52064ed",
   "outputs": [
    {
     "name": "stdout",
     "output_type": "stream",
     "text": [
      "{'agreement_id': '62e13174-f8d7-48ef-81c1-fc870b9e3b54',\n",
      " 'data_service_id': 'be8ab8ff-4c30-4014-beb4-aaf0e66c8d9e',\n",
      " 'identity': None,\n",
      " 'identity_token': None}\n"
     ]
    }
   ],
   "execution_count": 89
  },
  {
   "metadata": {},
   "cell_type": "markdown",
   "source": "## Setup transfer",
   "id": "f4525c74cc0623aa"
  },
  {
   "metadata": {
    "ExecuteTime": {
     "end_time": "2024-11-28T15:02:36.627023Z",
     "start_time": "2024-11-28T15:02:36.601085Z"
    }
   },
   "cell_type": "code",
   "source": [
    "url = data_space_consumer + \"/api/v1/setup-transfer\"\n",
    "\n",
    "payload = \"\"\n",
    "headers = {}\n",
    "response = requests.request(\"POST\", url, headers=headers, data=payload)\n",
    "callbackAddress = response.json()[\"callbackAddress\"]\n",
    "callbackId = response.json()[\"callbackId\"]\n",
    "consumerPid = response.json()[\"consumerPid\"]\n",
    "\n",
    "pprint.pprint(response.json())"
   ],
   "id": "9bbec26ab424add2",
   "outputs": [
    {
     "name": "stdout",
     "output_type": "stream",
     "text": [
      "{'callbackAddress': 'http://ds-consumer:1235/0c0e6597-504c-4e33-b0f4-09af4d45fdd9',\n",
      " 'callbackId': '0c0e6597-504c-4e33-b0f4-09af4d45fdd9',\n",
      " 'consumerPid': 'urn:uuid:be870ca3-17be-468d-9cf4-5bac748af80d'}\n"
     ]
    }
   ],
   "execution_count": 90
  },
  {
   "metadata": {},
   "cell_type": "markdown",
   "source": "## Request transfer",
   "id": "18541388a3b2edfd"
  },
  {
   "metadata": {
    "ExecuteTime": {
     "end_time": "2024-11-28T15:02:36.738026Z",
     "start_time": "2024-11-28T15:02:36.637271Z"
    }
   },
   "cell_type": "code",
   "source": [
    "url = data_space_consumer + \"/api/v1/request-transfer\"\n",
    "\n",
    "payload = json.dumps({\n",
    "  \"agreementId\": agreement_pid,\n",
    "  \"format\": \"http+pull\",\n",
    "  \"dataAddress\": None,\n",
    "  \"callbackAddress\": callbackAddress,\n",
    "  \"callbackId\": callbackId,\n",
    "  \"consumerPid\": consumerPid\n",
    "})\n",
    "headers = {\n",
    "  'Content-Type': 'application/json'\n",
    "}\n",
    "\n",
    "response = requests.request(\"POST\", url, headers=headers, data=payload)\n",
    "\n",
    "pprint.pprint(response.json())\n"
   ],
   "id": "b77d3288a12ce247",
   "outputs": [
    {
     "name": "stdout",
     "output_type": "stream",
     "text": [
      "{'consumerPid': 'urn:uuid:be870ca3-17be-468d-9cf4-5bac748af80d',\n",
      " 'transferProcess': {'@context': 'https://w3id.org/dspace/2024/1/context.json',\n",
      "                     '@type': 'dspace:TransferProcess',\n",
      "                     'dspace:consumerPid': 'urn:uuid:be870ca3-17be-468d-9cf4-5bac748af80d',\n",
      "                     'dspace:providerPid': 'urn:uuid:69bf11a8-96f5-4539-9df7-fc11ab0f8612',\n",
      "                     'dspace:state': 'dspace:REQUESTED'}}\n"
     ]
    }
   ],
   "execution_count": 91
  },
  {
   "metadata": {},
   "cell_type": "markdown",
   "source": "## Get data address",
   "id": "5ca135934c9a070a"
  },
  {
   "metadata": {
    "ExecuteTime": {
     "end_time": "2024-11-28T15:02:36.754524Z",
     "start_time": "2024-11-28T15:02:36.745137Z"
    }
   },
   "cell_type": "code",
   "source": [
    "import requests\n",
    "\n",
    "consumerPidUuid = consumerPid.replace(\"urn:uuid:\", \"\")\n",
    "url = data_space_consumer + \"/api/v1/data-address/\" + consumerPidUuid\n",
    "\n",
    "payload = \"\"\n",
    "headers = {\n",
    "  'Content-Type': 'application/json'\n",
    "}\n",
    "\n",
    "response = requests.request(\"GET\", url, headers=headers, data=payload)\n",
    "dataPlaneAddress = response.json()[\"dataPlaneAddress\"]\n",
    "\n",
    "pprint.pprint(response.json())"
   ],
   "id": "8f0f2510703d48e9",
   "outputs": [
    {
     "name": "stdout",
     "output_type": "stream",
     "text": [
      "{'dataPlaneAddress': 'http://ds-consumer:1235/0c0e6597-504c-4e33-b0f4-09af4d45fdd9/data/pull/be870ca3-17be-468d-9cf4-5bac748af80d'}\n"
     ]
    }
   ],
   "execution_count": 92
  },
  {
   "metadata": {},
   "cell_type": "markdown",
   "source": "## Use data address to get data from data space",
   "id": "e4ba7f46bbe9d31e"
  },
  {
   "metadata": {
    "ExecuteTime": {
     "end_time": "2024-11-28T15:02:36.844389Z",
     "start_time": "2024-11-28T15:02:36.765302Z"
    }
   },
   "cell_type": "code",
   "source": [
    "url = dataPlaneAddress\n",
    "url = url.replace(\"ds-consumer\", \"127.0.0.1\")\n",
    "df = pd.read_json(url + \"/comments\")\n",
    "df"
   ],
   "id": "a40e846eb1e02cf8",
   "outputs": [
    {
     "data": {
      "text/plain": [
       "     postId   id                                               name  \\\n",
       "0         1    1                       id labore ex et quam laborum   \n",
       "1         1    2          quo vero reiciendis velit similique earum   \n",
       "2         1    3                      odio adipisci rerum aut animi   \n",
       "3         1    4                                     alias odio sit   \n",
       "4         1    5              vero eaque aliquid doloribus et culpa   \n",
       "..      ...  ...                                                ...   \n",
       "495     100  496  et occaecati asperiores quas voluptas ipsam no...   \n",
       "496     100  497             doloribus dolores ut dolores occaecati   \n",
       "497     100  498                           dolores minus aut libero   \n",
       "498     100  499  excepturi sunt cum a et rerum quo voluptatibus...   \n",
       "499     100  500                                 ex eaque eum natus   \n",
       "\n",
       "                            email  \\\n",
       "0              Eliseo@gardner.biz   \n",
       "1          Jayne_Kuhic@sydney.com   \n",
       "2             Nikita@garfield.biz   \n",
       "3                   Lew@alysha.tv   \n",
       "4               Hayden@althea.biz   \n",
       "..                            ...   \n",
       "495               Zola@lizzie.com   \n",
       "496             Dolly@mandy.co.uk   \n",
       "497             Davion@eldora.net   \n",
       "498  Wilburn_Labadie@araceli.name   \n",
       "499                Emma@joanny.ca   \n",
       "\n",
       "                                                  body  \n",
       "0    laudantium enim quasi est quidem magnam volupt...  \n",
       "1    est natus enim nihil est dolore omnis voluptat...  \n",
       "2    quia molestiae reprehenderit quasi aspernatur\\...  \n",
       "3    non et atque\\noccaecati deserunt quas accusant...  \n",
       "4    harum non quasi et ratione\\ntempore iure ex vo...  \n",
       "..                                                 ...  \n",
       "495  neque unde voluptatem iure\\nodio excepturi ips...  \n",
       "496  non dolor consequatur\\nlaboriosam ut deserunt ...  \n",
       "497  aliquam pariatur suscipit fugiat eos sunt\\nopt...  \n",
       "498  et necessitatibus tempora ipsum quaerat invent...  \n",
       "499  perspiciatis quis doloremque\\nveniam nisi eos ...  \n",
       "\n",
       "[500 rows x 5 columns]"
      ],
      "text/html": [
       "<div>\n",
       "<style scoped>\n",
       "    .dataframe tbody tr th:only-of-type {\n",
       "        vertical-align: middle;\n",
       "    }\n",
       "\n",
       "    .dataframe tbody tr th {\n",
       "        vertical-align: top;\n",
       "    }\n",
       "\n",
       "    .dataframe thead th {\n",
       "        text-align: right;\n",
       "    }\n",
       "</style>\n",
       "<table border=\"1\" class=\"dataframe\">\n",
       "  <thead>\n",
       "    <tr style=\"text-align: right;\">\n",
       "      <th></th>\n",
       "      <th>postId</th>\n",
       "      <th>id</th>\n",
       "      <th>name</th>\n",
       "      <th>email</th>\n",
       "      <th>body</th>\n",
       "    </tr>\n",
       "  </thead>\n",
       "  <tbody>\n",
       "    <tr>\n",
       "      <th>0</th>\n",
       "      <td>1</td>\n",
       "      <td>1</td>\n",
       "      <td>id labore ex et quam laborum</td>\n",
       "      <td>Eliseo@gardner.biz</td>\n",
       "      <td>laudantium enim quasi est quidem magnam volupt...</td>\n",
       "    </tr>\n",
       "    <tr>\n",
       "      <th>1</th>\n",
       "      <td>1</td>\n",
       "      <td>2</td>\n",
       "      <td>quo vero reiciendis velit similique earum</td>\n",
       "      <td>Jayne_Kuhic@sydney.com</td>\n",
       "      <td>est natus enim nihil est dolore omnis voluptat...</td>\n",
       "    </tr>\n",
       "    <tr>\n",
       "      <th>2</th>\n",
       "      <td>1</td>\n",
       "      <td>3</td>\n",
       "      <td>odio adipisci rerum aut animi</td>\n",
       "      <td>Nikita@garfield.biz</td>\n",
       "      <td>quia molestiae reprehenderit quasi aspernatur\\...</td>\n",
       "    </tr>\n",
       "    <tr>\n",
       "      <th>3</th>\n",
       "      <td>1</td>\n",
       "      <td>4</td>\n",
       "      <td>alias odio sit</td>\n",
       "      <td>Lew@alysha.tv</td>\n",
       "      <td>non et atque\\noccaecati deserunt quas accusant...</td>\n",
       "    </tr>\n",
       "    <tr>\n",
       "      <th>4</th>\n",
       "      <td>1</td>\n",
       "      <td>5</td>\n",
       "      <td>vero eaque aliquid doloribus et culpa</td>\n",
       "      <td>Hayden@althea.biz</td>\n",
       "      <td>harum non quasi et ratione\\ntempore iure ex vo...</td>\n",
       "    </tr>\n",
       "    <tr>\n",
       "      <th>...</th>\n",
       "      <td>...</td>\n",
       "      <td>...</td>\n",
       "      <td>...</td>\n",
       "      <td>...</td>\n",
       "      <td>...</td>\n",
       "    </tr>\n",
       "    <tr>\n",
       "      <th>495</th>\n",
       "      <td>100</td>\n",
       "      <td>496</td>\n",
       "      <td>et occaecati asperiores quas voluptas ipsam no...</td>\n",
       "      <td>Zola@lizzie.com</td>\n",
       "      <td>neque unde voluptatem iure\\nodio excepturi ips...</td>\n",
       "    </tr>\n",
       "    <tr>\n",
       "      <th>496</th>\n",
       "      <td>100</td>\n",
       "      <td>497</td>\n",
       "      <td>doloribus dolores ut dolores occaecati</td>\n",
       "      <td>Dolly@mandy.co.uk</td>\n",
       "      <td>non dolor consequatur\\nlaboriosam ut deserunt ...</td>\n",
       "    </tr>\n",
       "    <tr>\n",
       "      <th>497</th>\n",
       "      <td>100</td>\n",
       "      <td>498</td>\n",
       "      <td>dolores minus aut libero</td>\n",
       "      <td>Davion@eldora.net</td>\n",
       "      <td>aliquam pariatur suscipit fugiat eos sunt\\nopt...</td>\n",
       "    </tr>\n",
       "    <tr>\n",
       "      <th>498</th>\n",
       "      <td>100</td>\n",
       "      <td>499</td>\n",
       "      <td>excepturi sunt cum a et rerum quo voluptatibus...</td>\n",
       "      <td>Wilburn_Labadie@araceli.name</td>\n",
       "      <td>et necessitatibus tempora ipsum quaerat invent...</td>\n",
       "    </tr>\n",
       "    <tr>\n",
       "      <th>499</th>\n",
       "      <td>100</td>\n",
       "      <td>500</td>\n",
       "      <td>ex eaque eum natus</td>\n",
       "      <td>Emma@joanny.ca</td>\n",
       "      <td>perspiciatis quis doloremque\\nveniam nisi eos ...</td>\n",
       "    </tr>\n",
       "  </tbody>\n",
       "</table>\n",
       "<p>500 rows × 5 columns</p>\n",
       "</div>"
      ]
     },
     "execution_count": 93,
     "metadata": {},
     "output_type": "execute_result"
    }
   ],
   "execution_count": 93
  },
  {
   "metadata": {},
   "cell_type": "markdown",
   "source": "## Suspend transfer",
   "id": "8cd90897a001831e"
  },
  {
   "metadata": {
    "ExecuteTime": {
     "end_time": "2024-11-28T15:02:36.894625Z",
     "start_time": "2024-11-28T15:02:36.873893Z"
    }
   },
   "cell_type": "code",
   "source": [
    "url = data_space_consumer + \"/api/v1/suspend-transfer\"\n",
    "\n",
    "payload = json.dumps({\n",
    "  \"consumerPid\": consumerPid\n",
    "})\n",
    "headers = {\n",
    "  'Content-Type': 'application/json'\n",
    "}\n",
    "\n",
    "response = requests.request(\"POST\", url, headers=headers, data=payload)\n",
    "\n",
    "pprint.pprint(response.json())"
   ],
   "id": "81a20f6fad26c983",
   "outputs": [
    {
     "name": "stdout",
     "output_type": "stream",
     "text": [
      "{'consumerPid': 'urn:uuid:be870ca3-17be-468d-9cf4-5bac748af80d',\n",
      " 'transferProcess': {'@context': 'https://w3id.org/dspace/2024/1/context.json',\n",
      "                     '@type': 'dspace:TransferProcess',\n",
      "                     'dspace:consumerPid': 'urn:uuid:be870ca3-17be-468d-9cf4-5bac748af80d',\n",
      "                     'dspace:providerPid': 'urn:uuid:69bf11a8-96f5-4539-9df7-fc11ab0f8612',\n",
      "                     'dspace:state': 'dspace:SUSPENDED'}}\n"
     ]
    }
   ],
   "execution_count": 94
  },
  {
   "metadata": {},
   "cell_type": "markdown",
   "source": [
    "## Test data access has been suspended\n",
    "\n",
    "**Disclaimer**: Data shouldn't appear. But for this deployment does appear because an internal refactor we're facing.\n",
    "In a couple of days this functionality will work like is expected."
   ],
   "id": "5dbfb9a2eedf5a3d"
  },
  {
   "metadata": {
    "ExecuteTime": {
     "end_time": "2024-11-28T15:02:59.264858Z",
     "start_time": "2024-11-28T15:02:59.171334Z"
    }
   },
   "cell_type": "code",
   "source": [
    "url = dataPlaneAddress\n",
    "url = url.replace(\"ds-consumer\", \"127.0.0.1\")\n",
    "df = pd.read_json(url + \"/comments\")\n",
    "df"
   ],
   "id": "c54bfeffc520e761",
   "outputs": [
    {
     "data": {
      "text/plain": [
       "     postId   id                                               name  \\\n",
       "0         1    1                       id labore ex et quam laborum   \n",
       "1         1    2          quo vero reiciendis velit similique earum   \n",
       "2         1    3                      odio adipisci rerum aut animi   \n",
       "3         1    4                                     alias odio sit   \n",
       "4         1    5              vero eaque aliquid doloribus et culpa   \n",
       "..      ...  ...                                                ...   \n",
       "495     100  496  et occaecati asperiores quas voluptas ipsam no...   \n",
       "496     100  497             doloribus dolores ut dolores occaecati   \n",
       "497     100  498                           dolores minus aut libero   \n",
       "498     100  499  excepturi sunt cum a et rerum quo voluptatibus...   \n",
       "499     100  500                                 ex eaque eum natus   \n",
       "\n",
       "                            email  \\\n",
       "0              Eliseo@gardner.biz   \n",
       "1          Jayne_Kuhic@sydney.com   \n",
       "2             Nikita@garfield.biz   \n",
       "3                   Lew@alysha.tv   \n",
       "4               Hayden@althea.biz   \n",
       "..                            ...   \n",
       "495               Zola@lizzie.com   \n",
       "496             Dolly@mandy.co.uk   \n",
       "497             Davion@eldora.net   \n",
       "498  Wilburn_Labadie@araceli.name   \n",
       "499                Emma@joanny.ca   \n",
       "\n",
       "                                                  body  \n",
       "0    laudantium enim quasi est quidem magnam volupt...  \n",
       "1    est natus enim nihil est dolore omnis voluptat...  \n",
       "2    quia molestiae reprehenderit quasi aspernatur\\...  \n",
       "3    non et atque\\noccaecati deserunt quas accusant...  \n",
       "4    harum non quasi et ratione\\ntempore iure ex vo...  \n",
       "..                                                 ...  \n",
       "495  neque unde voluptatem iure\\nodio excepturi ips...  \n",
       "496  non dolor consequatur\\nlaboriosam ut deserunt ...  \n",
       "497  aliquam pariatur suscipit fugiat eos sunt\\nopt...  \n",
       "498  et necessitatibus tempora ipsum quaerat invent...  \n",
       "499  perspiciatis quis doloremque\\nveniam nisi eos ...  \n",
       "\n",
       "[500 rows x 5 columns]"
      ],
      "text/html": [
       "<div>\n",
       "<style scoped>\n",
       "    .dataframe tbody tr th:only-of-type {\n",
       "        vertical-align: middle;\n",
       "    }\n",
       "\n",
       "    .dataframe tbody tr th {\n",
       "        vertical-align: top;\n",
       "    }\n",
       "\n",
       "    .dataframe thead th {\n",
       "        text-align: right;\n",
       "    }\n",
       "</style>\n",
       "<table border=\"1\" class=\"dataframe\">\n",
       "  <thead>\n",
       "    <tr style=\"text-align: right;\">\n",
       "      <th></th>\n",
       "      <th>postId</th>\n",
       "      <th>id</th>\n",
       "      <th>name</th>\n",
       "      <th>email</th>\n",
       "      <th>body</th>\n",
       "    </tr>\n",
       "  </thead>\n",
       "  <tbody>\n",
       "    <tr>\n",
       "      <th>0</th>\n",
       "      <td>1</td>\n",
       "      <td>1</td>\n",
       "      <td>id labore ex et quam laborum</td>\n",
       "      <td>Eliseo@gardner.biz</td>\n",
       "      <td>laudantium enim quasi est quidem magnam volupt...</td>\n",
       "    </tr>\n",
       "    <tr>\n",
       "      <th>1</th>\n",
       "      <td>1</td>\n",
       "      <td>2</td>\n",
       "      <td>quo vero reiciendis velit similique earum</td>\n",
       "      <td>Jayne_Kuhic@sydney.com</td>\n",
       "      <td>est natus enim nihil est dolore omnis voluptat...</td>\n",
       "    </tr>\n",
       "    <tr>\n",
       "      <th>2</th>\n",
       "      <td>1</td>\n",
       "      <td>3</td>\n",
       "      <td>odio adipisci rerum aut animi</td>\n",
       "      <td>Nikita@garfield.biz</td>\n",
       "      <td>quia molestiae reprehenderit quasi aspernatur\\...</td>\n",
       "    </tr>\n",
       "    <tr>\n",
       "      <th>3</th>\n",
       "      <td>1</td>\n",
       "      <td>4</td>\n",
       "      <td>alias odio sit</td>\n",
       "      <td>Lew@alysha.tv</td>\n",
       "      <td>non et atque\\noccaecati deserunt quas accusant...</td>\n",
       "    </tr>\n",
       "    <tr>\n",
       "      <th>4</th>\n",
       "      <td>1</td>\n",
       "      <td>5</td>\n",
       "      <td>vero eaque aliquid doloribus et culpa</td>\n",
       "      <td>Hayden@althea.biz</td>\n",
       "      <td>harum non quasi et ratione\\ntempore iure ex vo...</td>\n",
       "    </tr>\n",
       "    <tr>\n",
       "      <th>...</th>\n",
       "      <td>...</td>\n",
       "      <td>...</td>\n",
       "      <td>...</td>\n",
       "      <td>...</td>\n",
       "      <td>...</td>\n",
       "    </tr>\n",
       "    <tr>\n",
       "      <th>495</th>\n",
       "      <td>100</td>\n",
       "      <td>496</td>\n",
       "      <td>et occaecati asperiores quas voluptas ipsam no...</td>\n",
       "      <td>Zola@lizzie.com</td>\n",
       "      <td>neque unde voluptatem iure\\nodio excepturi ips...</td>\n",
       "    </tr>\n",
       "    <tr>\n",
       "      <th>496</th>\n",
       "      <td>100</td>\n",
       "      <td>497</td>\n",
       "      <td>doloribus dolores ut dolores occaecati</td>\n",
       "      <td>Dolly@mandy.co.uk</td>\n",
       "      <td>non dolor consequatur\\nlaboriosam ut deserunt ...</td>\n",
       "    </tr>\n",
       "    <tr>\n",
       "      <th>497</th>\n",
       "      <td>100</td>\n",
       "      <td>498</td>\n",
       "      <td>dolores minus aut libero</td>\n",
       "      <td>Davion@eldora.net</td>\n",
       "      <td>aliquam pariatur suscipit fugiat eos sunt\\nopt...</td>\n",
       "    </tr>\n",
       "    <tr>\n",
       "      <th>498</th>\n",
       "      <td>100</td>\n",
       "      <td>499</td>\n",
       "      <td>excepturi sunt cum a et rerum quo voluptatibus...</td>\n",
       "      <td>Wilburn_Labadie@araceli.name</td>\n",
       "      <td>et necessitatibus tempora ipsum quaerat invent...</td>\n",
       "    </tr>\n",
       "    <tr>\n",
       "      <th>499</th>\n",
       "      <td>100</td>\n",
       "      <td>500</td>\n",
       "      <td>ex eaque eum natus</td>\n",
       "      <td>Emma@joanny.ca</td>\n",
       "      <td>perspiciatis quis doloremque\\nveniam nisi eos ...</td>\n",
       "    </tr>\n",
       "  </tbody>\n",
       "</table>\n",
       "<p>500 rows × 5 columns</p>\n",
       "</div>"
      ]
     },
     "execution_count": 96,
     "metadata": {},
     "output_type": "execute_result"
    }
   ],
   "execution_count": 96
  },
  {
   "metadata": {},
   "cell_type": "markdown",
   "source": "## Restart transfer",
   "id": "1bae8e1bf5c49bcb"
  },
  {
   "metadata": {
    "ExecuteTime": {
     "end_time": "2024-11-28T15:02:37.035641Z",
     "start_time": "2024-11-28T14:23:05.462305Z"
    }
   },
   "cell_type": "code",
   "source": [
    "url = data_space_consumer + \"/api/v1/restart-transfer\"\n",
    "\n",
    "payload = json.dumps({\n",
    "  \"consumerPid\": consumerPid\n",
    "})\n",
    "headers = {\n",
    "  'Content-Type': 'application/json'\n",
    "}\n",
    "\n",
    "response = requests.request(\"POST\", url, headers=headers, data=payload)\n",
    "\n",
    "pprint.pprint(response.json())"
   ],
   "id": "89bc201efc2bd622",
   "outputs": [
    {
     "name": "stdout",
     "output_type": "stream",
     "text": [
      "{'consumerPid': 'urn:uuid:d14e3346-0072-4c2e-ada7-1f343bcbacf4',\n",
      " 'transferProcess': {'@context': 'https://w3id.org/dspace/2024/1/context.json',\n",
      "                     '@type': 'dspace:TransferProcess',\n",
      "                     'dspace:consumerPid': 'urn:uuid:d14e3346-0072-4c2e-ada7-1f343bcbacf4',\n",
      "                     'dspace:providerPid': 'urn:uuid:57473891-2fc8-4dd5-949b-20e5109d6e7e',\n",
      "                     'dspace:state': 'dspace:STARTED'}}\n"
     ]
    }
   ],
   "execution_count": 13
  },
  {
   "metadata": {},
   "cell_type": "markdown",
   "source": "## Test data is accessible again",
   "id": "c912368502ca728c"
  },
  {
   "metadata": {
    "ExecuteTime": {
     "end_time": "2024-11-28T15:03:04.267051Z",
     "start_time": "2024-11-28T15:03:04.140483Z"
    }
   },
   "cell_type": "code",
   "source": [
    "url = dataPlaneAddress\n",
    "url = url.replace(\"ds-consumer\", \"127.0.0.1\")\n",
    "df = pd.read_json(url + \"/comments\")\n",
    "df"
   ],
   "id": "9013316581bc97b3",
   "outputs": [
    {
     "data": {
      "text/plain": [
       "     postId   id                                               name  \\\n",
       "0         1    1                       id labore ex et quam laborum   \n",
       "1         1    2          quo vero reiciendis velit similique earum   \n",
       "2         1    3                      odio adipisci rerum aut animi   \n",
       "3         1    4                                     alias odio sit   \n",
       "4         1    5              vero eaque aliquid doloribus et culpa   \n",
       "..      ...  ...                                                ...   \n",
       "495     100  496  et occaecati asperiores quas voluptas ipsam no...   \n",
       "496     100  497             doloribus dolores ut dolores occaecati   \n",
       "497     100  498                           dolores minus aut libero   \n",
       "498     100  499  excepturi sunt cum a et rerum quo voluptatibus...   \n",
       "499     100  500                                 ex eaque eum natus   \n",
       "\n",
       "                            email  \\\n",
       "0              Eliseo@gardner.biz   \n",
       "1          Jayne_Kuhic@sydney.com   \n",
       "2             Nikita@garfield.biz   \n",
       "3                   Lew@alysha.tv   \n",
       "4               Hayden@althea.biz   \n",
       "..                            ...   \n",
       "495               Zola@lizzie.com   \n",
       "496             Dolly@mandy.co.uk   \n",
       "497             Davion@eldora.net   \n",
       "498  Wilburn_Labadie@araceli.name   \n",
       "499                Emma@joanny.ca   \n",
       "\n",
       "                                                  body  \n",
       "0    laudantium enim quasi est quidem magnam volupt...  \n",
       "1    est natus enim nihil est dolore omnis voluptat...  \n",
       "2    quia molestiae reprehenderit quasi aspernatur\\...  \n",
       "3    non et atque\\noccaecati deserunt quas accusant...  \n",
       "4    harum non quasi et ratione\\ntempore iure ex vo...  \n",
       "..                                                 ...  \n",
       "495  neque unde voluptatem iure\\nodio excepturi ips...  \n",
       "496  non dolor consequatur\\nlaboriosam ut deserunt ...  \n",
       "497  aliquam pariatur suscipit fugiat eos sunt\\nopt...  \n",
       "498  et necessitatibus tempora ipsum quaerat invent...  \n",
       "499  perspiciatis quis doloremque\\nveniam nisi eos ...  \n",
       "\n",
       "[500 rows x 5 columns]"
      ],
      "text/html": [
       "<div>\n",
       "<style scoped>\n",
       "    .dataframe tbody tr th:only-of-type {\n",
       "        vertical-align: middle;\n",
       "    }\n",
       "\n",
       "    .dataframe tbody tr th {\n",
       "        vertical-align: top;\n",
       "    }\n",
       "\n",
       "    .dataframe thead th {\n",
       "        text-align: right;\n",
       "    }\n",
       "</style>\n",
       "<table border=\"1\" class=\"dataframe\">\n",
       "  <thead>\n",
       "    <tr style=\"text-align: right;\">\n",
       "      <th></th>\n",
       "      <th>postId</th>\n",
       "      <th>id</th>\n",
       "      <th>name</th>\n",
       "      <th>email</th>\n",
       "      <th>body</th>\n",
       "    </tr>\n",
       "  </thead>\n",
       "  <tbody>\n",
       "    <tr>\n",
       "      <th>0</th>\n",
       "      <td>1</td>\n",
       "      <td>1</td>\n",
       "      <td>id labore ex et quam laborum</td>\n",
       "      <td>Eliseo@gardner.biz</td>\n",
       "      <td>laudantium enim quasi est quidem magnam volupt...</td>\n",
       "    </tr>\n",
       "    <tr>\n",
       "      <th>1</th>\n",
       "      <td>1</td>\n",
       "      <td>2</td>\n",
       "      <td>quo vero reiciendis velit similique earum</td>\n",
       "      <td>Jayne_Kuhic@sydney.com</td>\n",
       "      <td>est natus enim nihil est dolore omnis voluptat...</td>\n",
       "    </tr>\n",
       "    <tr>\n",
       "      <th>2</th>\n",
       "      <td>1</td>\n",
       "      <td>3</td>\n",
       "      <td>odio adipisci rerum aut animi</td>\n",
       "      <td>Nikita@garfield.biz</td>\n",
       "      <td>quia molestiae reprehenderit quasi aspernatur\\...</td>\n",
       "    </tr>\n",
       "    <tr>\n",
       "      <th>3</th>\n",
       "      <td>1</td>\n",
       "      <td>4</td>\n",
       "      <td>alias odio sit</td>\n",
       "      <td>Lew@alysha.tv</td>\n",
       "      <td>non et atque\\noccaecati deserunt quas accusant...</td>\n",
       "    </tr>\n",
       "    <tr>\n",
       "      <th>4</th>\n",
       "      <td>1</td>\n",
       "      <td>5</td>\n",
       "      <td>vero eaque aliquid doloribus et culpa</td>\n",
       "      <td>Hayden@althea.biz</td>\n",
       "      <td>harum non quasi et ratione\\ntempore iure ex vo...</td>\n",
       "    </tr>\n",
       "    <tr>\n",
       "      <th>...</th>\n",
       "      <td>...</td>\n",
       "      <td>...</td>\n",
       "      <td>...</td>\n",
       "      <td>...</td>\n",
       "      <td>...</td>\n",
       "    </tr>\n",
       "    <tr>\n",
       "      <th>495</th>\n",
       "      <td>100</td>\n",
       "      <td>496</td>\n",
       "      <td>et occaecati asperiores quas voluptas ipsam no...</td>\n",
       "      <td>Zola@lizzie.com</td>\n",
       "      <td>neque unde voluptatem iure\\nodio excepturi ips...</td>\n",
       "    </tr>\n",
       "    <tr>\n",
       "      <th>496</th>\n",
       "      <td>100</td>\n",
       "      <td>497</td>\n",
       "      <td>doloribus dolores ut dolores occaecati</td>\n",
       "      <td>Dolly@mandy.co.uk</td>\n",
       "      <td>non dolor consequatur\\nlaboriosam ut deserunt ...</td>\n",
       "    </tr>\n",
       "    <tr>\n",
       "      <th>497</th>\n",
       "      <td>100</td>\n",
       "      <td>498</td>\n",
       "      <td>dolores minus aut libero</td>\n",
       "      <td>Davion@eldora.net</td>\n",
       "      <td>aliquam pariatur suscipit fugiat eos sunt\\nopt...</td>\n",
       "    </tr>\n",
       "    <tr>\n",
       "      <th>498</th>\n",
       "      <td>100</td>\n",
       "      <td>499</td>\n",
       "      <td>excepturi sunt cum a et rerum quo voluptatibus...</td>\n",
       "      <td>Wilburn_Labadie@araceli.name</td>\n",
       "      <td>et necessitatibus tempora ipsum quaerat invent...</td>\n",
       "    </tr>\n",
       "    <tr>\n",
       "      <th>499</th>\n",
       "      <td>100</td>\n",
       "      <td>500</td>\n",
       "      <td>ex eaque eum natus</td>\n",
       "      <td>Emma@joanny.ca</td>\n",
       "      <td>perspiciatis quis doloremque\\nveniam nisi eos ...</td>\n",
       "    </tr>\n",
       "  </tbody>\n",
       "</table>\n",
       "<p>500 rows × 5 columns</p>\n",
       "</div>"
      ]
     },
     "execution_count": 97,
     "metadata": {},
     "output_type": "execute_result"
    }
   ],
   "execution_count": 97
  },
  {
   "metadata": {},
   "cell_type": "markdown",
   "source": "## Complete transfer",
   "id": "b6a0cec99e7c17b2"
  },
  {
   "metadata": {
    "ExecuteTime": {
     "end_time": "2024-11-28T15:02:37.046671Z",
     "start_time": "2024-11-28T14:23:05.709476Z"
    }
   },
   "cell_type": "code",
   "source": [
    "url = data_space_consumer + \"/api/v1/complete-transfer\"\n",
    "\n",
    "payload = json.dumps({\n",
    "  \"consumerPid\": consumerPid\n",
    "})\n",
    "headers = {\n",
    "  'Content-Type': 'application/json'\n",
    "}\n",
    "\n",
    "response = requests.request(\"POST\", url, headers=headers, data=payload)\n",
    "\n",
    "pprint.pprint(response.json())"
   ],
   "id": "c21cace19c0e0b30",
   "outputs": [
    {
     "name": "stdout",
     "output_type": "stream",
     "text": [
      "{'consumerPid': 'urn:uuid:d14e3346-0072-4c2e-ada7-1f343bcbacf4',\n",
      " 'transferProcess': {'@context': 'https://w3id.org/dspace/2024/1/context.json',\n",
      "                     '@type': 'dspace:TransferProcess',\n",
      "                     'dspace:consumerPid': 'urn:uuid:d14e3346-0072-4c2e-ada7-1f343bcbacf4',\n",
      "                     'dspace:providerPid': 'urn:uuid:57473891-2fc8-4dd5-949b-20e5109d6e7e',\n",
      "                     'dspace:state': 'dspace:COMPLETED'}}\n"
     ]
    }
   ],
   "execution_count": 15
  },
  {
   "metadata": {},
   "cell_type": "markdown",
   "source": "## Data is not accessible",
   "id": "562e38f8030d1a70"
  },
  {
   "metadata": {
    "ExecuteTime": {
     "end_time": "2024-11-28T15:03:08.788558Z",
     "start_time": "2024-11-28T15:03:08.724569Z"
    }
   },
   "cell_type": "code",
   "source": [
    "url = dataPlaneAddress\n",
    "url = url.replace(\"ds-consumer\", \"127.0.0.1\")\n",
    "df = pd.read_json(url + \"/comments\")\n",
    "df"
   ],
   "id": "73e4bac8f5c94e52",
   "outputs": [
    {
     "data": {
      "text/plain": [
       "     postId   id                                               name  \\\n",
       "0         1    1                       id labore ex et quam laborum   \n",
       "1         1    2          quo vero reiciendis velit similique earum   \n",
       "2         1    3                      odio adipisci rerum aut animi   \n",
       "3         1    4                                     alias odio sit   \n",
       "4         1    5              vero eaque aliquid doloribus et culpa   \n",
       "..      ...  ...                                                ...   \n",
       "495     100  496  et occaecati asperiores quas voluptas ipsam no...   \n",
       "496     100  497             doloribus dolores ut dolores occaecati   \n",
       "497     100  498                           dolores minus aut libero   \n",
       "498     100  499  excepturi sunt cum a et rerum quo voluptatibus...   \n",
       "499     100  500                                 ex eaque eum natus   \n",
       "\n",
       "                            email  \\\n",
       "0              Eliseo@gardner.biz   \n",
       "1          Jayne_Kuhic@sydney.com   \n",
       "2             Nikita@garfield.biz   \n",
       "3                   Lew@alysha.tv   \n",
       "4               Hayden@althea.biz   \n",
       "..                            ...   \n",
       "495               Zola@lizzie.com   \n",
       "496             Dolly@mandy.co.uk   \n",
       "497             Davion@eldora.net   \n",
       "498  Wilburn_Labadie@araceli.name   \n",
       "499                Emma@joanny.ca   \n",
       "\n",
       "                                                  body  \n",
       "0    laudantium enim quasi est quidem magnam volupt...  \n",
       "1    est natus enim nihil est dolore omnis voluptat...  \n",
       "2    quia molestiae reprehenderit quasi aspernatur\\...  \n",
       "3    non et atque\\noccaecati deserunt quas accusant...  \n",
       "4    harum non quasi et ratione\\ntempore iure ex vo...  \n",
       "..                                                 ...  \n",
       "495  neque unde voluptatem iure\\nodio excepturi ips...  \n",
       "496  non dolor consequatur\\nlaboriosam ut deserunt ...  \n",
       "497  aliquam pariatur suscipit fugiat eos sunt\\nopt...  \n",
       "498  et necessitatibus tempora ipsum quaerat invent...  \n",
       "499  perspiciatis quis doloremque\\nveniam nisi eos ...  \n",
       "\n",
       "[500 rows x 5 columns]"
      ],
      "text/html": [
       "<div>\n",
       "<style scoped>\n",
       "    .dataframe tbody tr th:only-of-type {\n",
       "        vertical-align: middle;\n",
       "    }\n",
       "\n",
       "    .dataframe tbody tr th {\n",
       "        vertical-align: top;\n",
       "    }\n",
       "\n",
       "    .dataframe thead th {\n",
       "        text-align: right;\n",
       "    }\n",
       "</style>\n",
       "<table border=\"1\" class=\"dataframe\">\n",
       "  <thead>\n",
       "    <tr style=\"text-align: right;\">\n",
       "      <th></th>\n",
       "      <th>postId</th>\n",
       "      <th>id</th>\n",
       "      <th>name</th>\n",
       "      <th>email</th>\n",
       "      <th>body</th>\n",
       "    </tr>\n",
       "  </thead>\n",
       "  <tbody>\n",
       "    <tr>\n",
       "      <th>0</th>\n",
       "      <td>1</td>\n",
       "      <td>1</td>\n",
       "      <td>id labore ex et quam laborum</td>\n",
       "      <td>Eliseo@gardner.biz</td>\n",
       "      <td>laudantium enim quasi est quidem magnam volupt...</td>\n",
       "    </tr>\n",
       "    <tr>\n",
       "      <th>1</th>\n",
       "      <td>1</td>\n",
       "      <td>2</td>\n",
       "      <td>quo vero reiciendis velit similique earum</td>\n",
       "      <td>Jayne_Kuhic@sydney.com</td>\n",
       "      <td>est natus enim nihil est dolore omnis voluptat...</td>\n",
       "    </tr>\n",
       "    <tr>\n",
       "      <th>2</th>\n",
       "      <td>1</td>\n",
       "      <td>3</td>\n",
       "      <td>odio adipisci rerum aut animi</td>\n",
       "      <td>Nikita@garfield.biz</td>\n",
       "      <td>quia molestiae reprehenderit quasi aspernatur\\...</td>\n",
       "    </tr>\n",
       "    <tr>\n",
       "      <th>3</th>\n",
       "      <td>1</td>\n",
       "      <td>4</td>\n",
       "      <td>alias odio sit</td>\n",
       "      <td>Lew@alysha.tv</td>\n",
       "      <td>non et atque\\noccaecati deserunt quas accusant...</td>\n",
       "    </tr>\n",
       "    <tr>\n",
       "      <th>4</th>\n",
       "      <td>1</td>\n",
       "      <td>5</td>\n",
       "      <td>vero eaque aliquid doloribus et culpa</td>\n",
       "      <td>Hayden@althea.biz</td>\n",
       "      <td>harum non quasi et ratione\\ntempore iure ex vo...</td>\n",
       "    </tr>\n",
       "    <tr>\n",
       "      <th>...</th>\n",
       "      <td>...</td>\n",
       "      <td>...</td>\n",
       "      <td>...</td>\n",
       "      <td>...</td>\n",
       "      <td>...</td>\n",
       "    </tr>\n",
       "    <tr>\n",
       "      <th>495</th>\n",
       "      <td>100</td>\n",
       "      <td>496</td>\n",
       "      <td>et occaecati asperiores quas voluptas ipsam no...</td>\n",
       "      <td>Zola@lizzie.com</td>\n",
       "      <td>neque unde voluptatem iure\\nodio excepturi ips...</td>\n",
       "    </tr>\n",
       "    <tr>\n",
       "      <th>496</th>\n",
       "      <td>100</td>\n",
       "      <td>497</td>\n",
       "      <td>doloribus dolores ut dolores occaecati</td>\n",
       "      <td>Dolly@mandy.co.uk</td>\n",
       "      <td>non dolor consequatur\\nlaboriosam ut deserunt ...</td>\n",
       "    </tr>\n",
       "    <tr>\n",
       "      <th>497</th>\n",
       "      <td>100</td>\n",
       "      <td>498</td>\n",
       "      <td>dolores minus aut libero</td>\n",
       "      <td>Davion@eldora.net</td>\n",
       "      <td>aliquam pariatur suscipit fugiat eos sunt\\nopt...</td>\n",
       "    </tr>\n",
       "    <tr>\n",
       "      <th>498</th>\n",
       "      <td>100</td>\n",
       "      <td>499</td>\n",
       "      <td>excepturi sunt cum a et rerum quo voluptatibus...</td>\n",
       "      <td>Wilburn_Labadie@araceli.name</td>\n",
       "      <td>et necessitatibus tempora ipsum quaerat invent...</td>\n",
       "    </tr>\n",
       "    <tr>\n",
       "      <th>499</th>\n",
       "      <td>100</td>\n",
       "      <td>500</td>\n",
       "      <td>ex eaque eum natus</td>\n",
       "      <td>Emma@joanny.ca</td>\n",
       "      <td>perspiciatis quis doloremque\\nveniam nisi eos ...</td>\n",
       "    </tr>\n",
       "  </tbody>\n",
       "</table>\n",
       "<p>500 rows × 5 columns</p>\n",
       "</div>"
      ]
     },
     "execution_count": 98,
     "metadata": {},
     "output_type": "execute_result"
    }
   ],
   "execution_count": 98
  },
  {
   "metadata": {},
   "cell_type": "markdown",
   "source": "## Protocol state cannot change",
   "id": "59f9a127a11c5870"
  },
  {
   "metadata": {
    "ExecuteTime": {
     "end_time": "2024-11-28T15:02:37.055991Z",
     "start_time": "2024-11-28T14:23:05.969342Z"
    }
   },
   "cell_type": "code",
   "source": [
    "url = data_space_consumer + \"/api/v1/restart-transfer\"\n",
    "\n",
    "payload = json.dumps({\n",
    "  \"consumerPid\": consumerPid\n",
    "})\n",
    "headers = {\n",
    "  'Content-Type': 'application/json'\n",
    "}\n",
    "\n",
    "response = requests.request(\"POST\", url, headers=headers, data=payload)\n",
    "\n",
    "pprint.pprint(response.json())"
   ],
   "id": "fe5042010fcfd9bf",
   "outputs": [
    {
     "name": "stdout",
     "output_type": "stream",
     "text": [
      "{'consumerPid': 'urn:uuid:d14e3346-0072-4c2e-ada7-1f343bcbacf4',\n",
      " 'error': {'@context': 'https://w3id.org/dspace/2024/1/context.json',\n",
      "           '@type': 'dspace:TransferError',\n",
      "           'dspace:code': 'TRANSFER_ERROR_CODE',\n",
      "           'dspace:consumerPid': '123',\n",
      "           'dspace:providerPid': '123',\n",
      "           'dspace:reason': ['Protocol Error. dspace:TransferRequestMessage is '\n",
      "                             'not allowed here. Current state is '\n",
      "                             'dspace:COMPLETED']}}\n"
     ]
    }
   ],
   "execution_count": 17
  },
  {
   "metadata": {
    "ExecuteTime": {
     "end_time": "2024-11-28T15:02:37.056617Z",
     "start_time": "2024-11-28T14:23:06.129008Z"
    }
   },
   "cell_type": "code",
   "source": "",
   "id": "4cf907ee29639c57",
   "outputs": [],
   "execution_count": null
  }
 ],
 "metadata": {
  "kernelspec": {
   "display_name": "Python 3",
   "language": "python",
   "name": "python3"
  },
  "language_info": {
   "codemirror_mode": {
    "name": "ipython",
    "version": 2
   },
   "file_extension": ".py",
   "mimetype": "text/x-python",
   "name": "python",
   "nbconvert_exporter": "python",
   "pygments_lexer": "ipython2",
   "version": "2.7.6"
  }
 },
 "nbformat": 4,
 "nbformat_minor": 5
}
