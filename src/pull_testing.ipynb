{
 "cells": [
  {
   "metadata": {
    "ExecuteTime": {
     "end_time": "2024-11-26T07:40:56.742788Z",
     "start_time": "2024-11-26T07:40:56.615588Z"
    }
   },
   "cell_type": "code",
   "source": "!which python",
   "id": "f5eb35243a90b60f",
   "outputs": [
    {
     "name": "stdout",
     "output_type": "stream",
     "text": [
      "/Users/apabook/Desktop/ds-deployment/.venv/bin/python\r\n"
     ]
    }
   ],
   "execution_count": 1
  },
  {
   "metadata": {
    "collapsed": true,
    "ExecuteTime": {
     "end_time": "2024-11-26T07:42:48.877810Z",
     "start_time": "2024-11-26T07:42:48.510867Z"
    }
   },
   "cell_type": "code",
   "source": [
    "import pandas as pd\n",
    "import requests\n",
    "import json\n",
    "import pprint\n"
   ],
   "id": "initial_id",
   "outputs": [
    {
     "name": "stderr",
     "output_type": "stream",
     "text": [
      "/Users/apabook/Desktop/ds-deployment/.venv/lib/python3.9/site-packages/urllib3/__init__.py:35: NotOpenSSLWarning: urllib3 v2 only supports OpenSSL 1.1.1+, currently the 'ssl' module is compiled with 'LibreSSL 2.8.3'. See: https://github.com/urllib3/urllib3/issues/3020\n",
      "  warnings.warn(\n"
     ]
    }
   ],
   "execution_count": 3
  },
  {
   "metadata": {},
   "cell_type": "markdown",
   "source": [
    "# Testing HL Api for PULL transfer\n",
    "\n",
    "---"
   ],
   "id": "d606bf0c35b91005"
  },
  {
   "metadata": {},
   "cell_type": "markdown",
   "source": "## Consts",
   "id": "249fc7af32f10612"
  },
  {
   "metadata": {
    "ExecuteTime": {
     "end_time": "2024-11-26T08:24:11.405704Z",
     "start_time": "2024-11-26T08:24:11.399268Z"
    }
   },
   "cell_type": "code",
   "source": [
    "data_space_provider = \"http://127.0.0.1:1234\"\n",
    "data_space_consumer = \"http://127.0.0.1:1235\"\n",
    "context_broker = \"http://fiware-orion:1026\"\n",
    "streaming_processor = \"http://streaming-testing-service:1237\"\n",
    "\n",
    "catalog_id = \"\"\n",
    "dataservice_id = \"\"\n",
    "agreement_id = \"\"\n",
    "agreement_pid = \"\""
   ],
   "id": "4230628fecab09a1",
   "outputs": [],
   "execution_count": 48
  },
  {
   "metadata": {},
   "cell_type": "markdown",
   "source": "## Setup Catalog, Dataservice and agreements",
   "id": "a128721267853968"
  },
  {
   "metadata": {
    "ExecuteTime": {
     "end_time": "2024-11-26T08:24:12.849594Z",
     "start_time": "2024-11-26T08:24:12.772364Z"
    }
   },
   "cell_type": "code",
   "source": [
    "payload = {\n",
    "    \"foaf:homepage\": \"My catalog in Dataspace provider\",\n",
    "    \"dct:title\": \"My catalog in Dataspace provider\"\n",
    "}\n",
    "headers = {\n",
    "    \"Content-Type\": \"application/json\",\n",
    "}\n",
    "url = data_space_provider + \"/api/v1/catalogs\"\n",
    "response = requests.request(\"POST\", url, headers=headers, data=json.dumps(payload))\n",
    "response_as_json = response.json()\n",
    "catalog_id = response_as_json[\"@id\"]\n",
    "\n",
    "pprint.pprint(response.json())"
   ],
   "id": "2fabc6eafbe80045",
   "outputs": [
    {
     "name": "stdout",
     "output_type": "stream",
     "text": [
      "{'@context': 'https://w3id.org/dspace/2024/1/context.json',\n",
      " '@id': '4c5a5e57-3c69-413c-9108-5887842bdfc4',\n",
      " '@type': 'dcat:Catalog',\n",
      " 'dcat:dataset': [],\n",
      " 'dcat:keyword': '',\n",
      " 'dcat:service': [],\n",
      " 'dcat:theme': '',\n",
      " 'dct:conformsTo': None,\n",
      " 'dct:creator': None,\n",
      " 'dct:description': [],\n",
      " 'dct:identifier': '4c5a5e57-3c69-413c-9108-5887842bdfc4',\n",
      " 'dct:issued': '2024-11-26T08:24:12.838560',\n",
      " 'dct:modified': None,\n",
      " 'dct:title': 'My catalog in Dataspace provider',\n",
      " 'dspace:extraFields': None,\n",
      " 'dspace:participantId': None,\n",
      " 'foaf:homepage': 'My catalog in Dataspace provider',\n",
      " 'odrl:hasPolicy': None}\n"
     ]
    }
   ],
   "execution_count": 49
  },
  {
   "metadata": {
    "ExecuteTime": {
     "end_time": "2024-11-26T08:24:13.531992Z",
     "start_time": "2024-11-26T08:24:13.497017Z"
    }
   },
   "cell_type": "code",
   "source": [
    "payload = {\n",
    "    \"dcat:endpointURL\": context_broker + \"/v2/entities\"\n",
    "}\n",
    "headers = {\n",
    "    \"Content-Type\": \"application/json\",\n",
    "}\n",
    "url = data_space_provider + \"/api/v1/catalogs/\" + catalog_id + \"/data-services\"\n",
    "response = requests.request(\"POST\", url, headers=headers, data=json.dumps(payload))\n",
    "response_as_json = response.json()\n",
    "dataservice_id = response_as_json[\"@id\"]\n",
    "\n",
    "pprint.pprint(response.json())"
   ],
   "id": "5bb00d1a6e7ae7fe",
   "outputs": [
    {
     "name": "stdout",
     "output_type": "stream",
     "text": [
      "{'@context': 'https://w3id.org/dspace/2024/1/context.json',\n",
      " '@id': '40c5e77b-201c-460f-9343-dccff5266249',\n",
      " '@type': 'dcat:DataService',\n",
      " 'dcat:endpointDescription': '',\n",
      " 'dcat:endpointURL': 'http://fiware-orion:1026/v2/entities',\n",
      " 'dcat:keyword': '',\n",
      " 'dcat:theme': '',\n",
      " 'dct:conformsTo': None,\n",
      " 'dct:creator': None,\n",
      " 'dct:description': [],\n",
      " 'dct:identifier': '40c5e77b-201c-460f-9343-dccff5266249',\n",
      " 'dct:issued': '2024-11-26T08:24:13.524596',\n",
      " 'dct:modified': None,\n",
      " 'dct:title': None,\n",
      " 'dspace:extraFields': None,\n",
      " 'odrl:hasPolicy': None}\n"
     ]
    }
   ],
   "execution_count": 50
  },
  {
   "metadata": {
    "ExecuteTime": {
     "end_time": "2024-11-26T08:24:14.241676Z",
     "start_time": "2024-11-26T08:24:14.210757Z"
    }
   },
   "cell_type": "code",
   "source": [
    "payload = {\n",
    "    \"dataServiceId\": dataservice_id\n",
    "}\n",
    "headers = {\n",
    "    \"Content-Type\": \"application/json\",\n",
    "}\n",
    "url = data_space_provider + \"/api/v1/agreements\"\n",
    "response = requests.request(\"POST\", url, headers=headers, data=json.dumps(payload))\n",
    "response_as_json = response.json()\n",
    "agreement_id = response_as_json[\"agreement_id\"]\n",
    "agreement_pid = \"urn:uuid:\" + agreement_id\n",
    "\n",
    "pprint.pprint(response.json())"
   ],
   "id": "8195a5dbe52064ed",
   "outputs": [
    {
     "name": "stdout",
     "output_type": "stream",
     "text": [
      "{'agreement_id': 'b4999cc0-b197-4e89-9288-8bd41f083326',\n",
      " 'data_service_id': '40c5e77b-201c-460f-9343-dccff5266249',\n",
      " 'identity': None,\n",
      " 'identity_token': None}\n"
     ]
    }
   ],
   "execution_count": 51
  },
  {
   "metadata": {},
   "cell_type": "markdown",
   "source": "## Setup transfer",
   "id": "f4525c74cc0623aa"
  },
  {
   "metadata": {
    "ExecuteTime": {
     "end_time": "2024-11-26T08:24:15.679379Z",
     "start_time": "2024-11-26T08:24:15.638471Z"
    }
   },
   "cell_type": "code",
   "source": [
    "url = data_space_consumer + \"/api/v1/setup-transfer\"\n",
    "\n",
    "payload = \"\"\n",
    "headers = {}\n",
    "response = requests.request(\"POST\", url, headers=headers, data=payload)\n",
    "callbackAddress = response.json()[\"callbackAddress\"]\n",
    "callbackId = response.json()[\"callbackId\"]\n",
    "consumerPid = response.json()[\"consumerPid\"]\n",
    "\n",
    "pprint.pprint(response.json())"
   ],
   "id": "9bbec26ab424add2",
   "outputs": [
    {
     "name": "stdout",
     "output_type": "stream",
     "text": [
      "{'callbackAddress': 'http://ds-consumer:1235/14ac098f-3436-4c11-a4fb-4ea9a112e46f',\n",
      " 'callbackId': '14ac098f-3436-4c11-a4fb-4ea9a112e46f',\n",
      " 'consumerPid': 'urn:uuid:24769af9-0d78-4073-81c1-0741960a9833'}\n"
     ]
    }
   ],
   "execution_count": 52
  },
  {
   "metadata": {},
   "cell_type": "markdown",
   "source": "## Request transfer",
   "id": "18541388a3b2edfd"
  },
  {
   "metadata": {
    "ExecuteTime": {
     "end_time": "2024-11-26T08:24:17.086832Z",
     "start_time": "2024-11-26T08:24:16.958215Z"
    }
   },
   "cell_type": "code",
   "source": [
    "url = data_space_consumer + \"/api/v1/request-transfer\"\n",
    "\n",
    "payload = json.dumps({\n",
    "  \"agreementId\": agreement_pid,\n",
    "  \"format\": \"fiware+pull\",\n",
    "  \"dataAddress\": None,\n",
    "  \"callbackAddress\": callbackAddress,\n",
    "  \"callbackId\": callbackId,\n",
    "  \"consumerPid\": consumerPid\n",
    "})\n",
    "headers = {\n",
    "  'Content-Type': 'application/json'\n",
    "}\n",
    "\n",
    "response = requests.request(\"POST\", url, headers=headers, data=payload)\n",
    "\n",
    "pprint.pprint(response.json())\n"
   ],
   "id": "b77d3288a12ce247",
   "outputs": [
    {
     "name": "stdout",
     "output_type": "stream",
     "text": [
      "{'consumerPid': 'urn:uuid:24769af9-0d78-4073-81c1-0741960a9833',\n",
      " 'transferProcess': {'@context': 'https://w3id.org/dspace/2024/1/context.json',\n",
      "                     '@type': 'dspace:TransferProcess',\n",
      "                     'dspace:consumerPid': 'urn:uuid:24769af9-0d78-4073-81c1-0741960a9833',\n",
      "                     'dspace:providerPid': 'urn:uuid:1e898d78-ae7f-46a2-b278-ee8d7439efdb',\n",
      "                     'dspace:state': 'dspace:REQUESTED'}}\n"
     ]
    }
   ],
   "execution_count": 53
  },
  {
   "metadata": {},
   "cell_type": "markdown",
   "source": "## Get data address",
   "id": "5ca135934c9a070a"
  },
  {
   "metadata": {
    "ExecuteTime": {
     "end_time": "2024-11-26T08:24:18.798394Z",
     "start_time": "2024-11-26T08:24:18.785239Z"
    }
   },
   "cell_type": "code",
   "source": [
    "import requests\n",
    "\n",
    "consumerPidUuid = consumerPid.replace(\"urn:uuid:\", \"\")\n",
    "url = data_space_consumer + \"/api/v1/data-address/\" + consumerPidUuid\n",
    "\n",
    "payload = \"\"\n",
    "headers = {}\n",
    "\n",
    "response = requests.request(\"GET\", url, headers=headers, data=payload)\n",
    "dataPlaneAddress = response.json()[\"dataPlaneAddress\"]\n",
    "\n",
    "pprint.pprint(response.json())"
   ],
   "id": "8f0f2510703d48e9",
   "outputs": [
    {
     "name": "stdout",
     "output_type": "stream",
     "text": [
      "{'dataPlaneAddress': 'http://ds-consumer:1235/14ac098f-3436-4c11-a4fb-4ea9a112e46f/data/pull/24769af9-0d78-4073-81c1-0741960a9833'}\n"
     ]
    }
   ],
   "execution_count": 54
  },
  {
   "metadata": {},
   "cell_type": "markdown",
   "source": "## Use data address to get data from data space",
   "id": "e4ba7f46bbe9d31e"
  },
  {
   "metadata": {
    "ExecuteTime": {
     "end_time": "2024-11-26T08:24:20.644631Z",
     "start_time": "2024-11-26T08:24:20.583408Z"
    }
   },
   "cell_type": "code",
   "source": [
    "url = dataPlaneAddress\n",
    "url = url.replace(\"ds-consumer\", \"127.0.0.1\")\n",
    "\n",
    "df = pd.read_json(url)\n",
    "df[\"CO\"]"
   ],
   "id": "a40e846eb1e02cf8",
   "outputs": [
    {
     "data": {
      "text/plain": [
       "0    {'type': 'Number', 'value': '24', 'metadata': {}}\n",
       "Name: CO, dtype: object"
      ]
     },
     "execution_count": 55,
     "metadata": {},
     "output_type": "execute_result"
    }
   ],
   "execution_count": 55
  },
  {
   "metadata": {},
   "cell_type": "markdown",
   "source": "## Suspend transfer",
   "id": "8cd90897a001831e"
  },
  {
   "metadata": {
    "ExecuteTime": {
     "end_time": "2024-11-26T08:24:22.525541Z",
     "start_time": "2024-11-26T08:24:22.452473Z"
    }
   },
   "cell_type": "code",
   "source": [
    "url = data_space_consumer + \"/api/v1/suspend-transfer\"\n",
    "\n",
    "payload = json.dumps({\n",
    "  \"consumerPid\": consumerPid\n",
    "})\n",
    "headers = {\n",
    "  'Content-Type': 'application/json'\n",
    "}\n",
    "\n",
    "response = requests.request(\"POST\", url, headers=headers, data=payload)\n",
    "\n",
    "pprint.pprint(response.json())"
   ],
   "id": "81a20f6fad26c983",
   "outputs": [
    {
     "name": "stdout",
     "output_type": "stream",
     "text": [
      "{'consumerPid': 'urn:uuid:24769af9-0d78-4073-81c1-0741960a9833',\n",
      " 'transferProcess': {'@context': 'https://w3id.org/dspace/2024/1/context.json',\n",
      "                     '@type': 'dspace:TransferProcess',\n",
      "                     'dspace:consumerPid': 'urn:uuid:24769af9-0d78-4073-81c1-0741960a9833',\n",
      "                     'dspace:providerPid': 'urn:uuid:1e898d78-ae7f-46a2-b278-ee8d7439efdb',\n",
      "                     'dspace:state': 'dspace:SUSPENDED'}}\n"
     ]
    }
   ],
   "execution_count": 56
  },
  {
   "metadata": {},
   "cell_type": "markdown",
   "source": [
    "## Test data access has been suspended\n",
    "\n",
    "**Disclaimer**: Data shouldn't appear. But for this deployment does appear because an internal refactor we're facing.\n",
    "In a couple of days this functionality will work like is expected."
   ],
   "id": "5dbfb9a2eedf5a3d"
  },
  {
   "metadata": {
    "ExecuteTime": {
     "end_time": "2024-11-26T08:24:24.356817Z",
     "start_time": "2024-11-26T08:24:24.298361Z"
    }
   },
   "cell_type": "code",
   "source": [
    "url = dataPlaneAddress\n",
    "url = url.replace(\"ds-consumer\", \"127.0.0.1\")\n",
    "\n",
    "df = pd.read_json(url)\n",
    "df"
   ],
   "id": "c54bfeffc520e761",
   "outputs": [
    {
     "data": {
      "text/plain": [
       "                 id            type  \\\n",
       "0  AirQualityUnit01  AirQualityUnit   \n",
       "\n",
       "                                                  CO  \\\n",
       "0  {'type': 'Number', 'value': '56', 'metadata': {}}   \n",
       "\n",
       "                                   relativeHumidity  \\\n",
       "0  {'type': 'Number', 'value': '0', 'metadata': {}}   \n",
       "\n",
       "                                        temperature  \n",
       "0  {'type': 'Number', 'value': '0', 'metadata': {}}  "
      ],
      "text/html": [
       "<div>\n",
       "<style scoped>\n",
       "    .dataframe tbody tr th:only-of-type {\n",
       "        vertical-align: middle;\n",
       "    }\n",
       "\n",
       "    .dataframe tbody tr th {\n",
       "        vertical-align: top;\n",
       "    }\n",
       "\n",
       "    .dataframe thead th {\n",
       "        text-align: right;\n",
       "    }\n",
       "</style>\n",
       "<table border=\"1\" class=\"dataframe\">\n",
       "  <thead>\n",
       "    <tr style=\"text-align: right;\">\n",
       "      <th></th>\n",
       "      <th>id</th>\n",
       "      <th>type</th>\n",
       "      <th>CO</th>\n",
       "      <th>relativeHumidity</th>\n",
       "      <th>temperature</th>\n",
       "    </tr>\n",
       "  </thead>\n",
       "  <tbody>\n",
       "    <tr>\n",
       "      <th>0</th>\n",
       "      <td>AirQualityUnit01</td>\n",
       "      <td>AirQualityUnit</td>\n",
       "      <td>{'type': 'Number', 'value': '56', 'metadata': {}}</td>\n",
       "      <td>{'type': 'Number', 'value': '0', 'metadata': {}}</td>\n",
       "      <td>{'type': 'Number', 'value': '0', 'metadata': {}}</td>\n",
       "    </tr>\n",
       "  </tbody>\n",
       "</table>\n",
       "</div>"
      ]
     },
     "execution_count": 57,
     "metadata": {},
     "output_type": "execute_result"
    }
   ],
   "execution_count": 57
  },
  {
   "metadata": {},
   "cell_type": "markdown",
   "source": "## Restart transfer",
   "id": "1bae8e1bf5c49bcb"
  },
  {
   "metadata": {
    "ExecuteTime": {
     "end_time": "2024-11-26T08:24:25.560104Z",
     "start_time": "2024-11-26T08:24:25.512068Z"
    }
   },
   "cell_type": "code",
   "source": [
    "url = data_space_consumer + \"/api/v1/restart-transfer\"\n",
    "\n",
    "payload = json.dumps({\n",
    "  \"consumerPid\": consumerPid\n",
    "})\n",
    "headers = {\n",
    "  'Content-Type': 'application/json'\n",
    "}\n",
    "\n",
    "response = requests.request(\"POST\", url, headers=headers, data=payload)\n",
    "\n",
    "pprint.pprint(response.json())"
   ],
   "id": "89bc201efc2bd622",
   "outputs": [
    {
     "name": "stdout",
     "output_type": "stream",
     "text": [
      "{'consumerPid': 'urn:uuid:24769af9-0d78-4073-81c1-0741960a9833',\n",
      " 'transferProcess': {'@context': 'https://w3id.org/dspace/2024/1/context.json',\n",
      "                     '@type': 'dspace:TransferProcess',\n",
      "                     'dspace:consumerPid': 'urn:uuid:24769af9-0d78-4073-81c1-0741960a9833',\n",
      "                     'dspace:providerPid': 'urn:uuid:1e898d78-ae7f-46a2-b278-ee8d7439efdb',\n",
      "                     'dspace:state': 'dspace:STARTED'}}\n"
     ]
    }
   ],
   "execution_count": 58
  },
  {
   "metadata": {},
   "cell_type": "markdown",
   "source": "## Test data is accessible again",
   "id": "c912368502ca728c"
  },
  {
   "metadata": {
    "ExecuteTime": {
     "end_time": "2024-11-26T08:24:27.101706Z",
     "start_time": "2024-11-26T08:24:27.054938Z"
    }
   },
   "cell_type": "code",
   "source": [
    "url = dataPlaneAddress\n",
    "url = url.replace(\"ds-consumer\", \"127.0.0.1\")\n",
    "\n",
    "df = pd.read_json(url)\n",
    "df"
   ],
   "id": "9013316581bc97b3",
   "outputs": [
    {
     "data": {
      "text/plain": [
       "                 id            type  \\\n",
       "0  AirQualityUnit01  AirQualityUnit   \n",
       "\n",
       "                                                  CO  \\\n",
       "0  {'type': 'Number', 'value': '91', 'metadata': {}}   \n",
       "\n",
       "                                   relativeHumidity  \\\n",
       "0  {'type': 'Number', 'value': '0', 'metadata': {}}   \n",
       "\n",
       "                                        temperature  \n",
       "0  {'type': 'Number', 'value': '0', 'metadata': {}}  "
      ],
      "text/html": [
       "<div>\n",
       "<style scoped>\n",
       "    .dataframe tbody tr th:only-of-type {\n",
       "        vertical-align: middle;\n",
       "    }\n",
       "\n",
       "    .dataframe tbody tr th {\n",
       "        vertical-align: top;\n",
       "    }\n",
       "\n",
       "    .dataframe thead th {\n",
       "        text-align: right;\n",
       "    }\n",
       "</style>\n",
       "<table border=\"1\" class=\"dataframe\">\n",
       "  <thead>\n",
       "    <tr style=\"text-align: right;\">\n",
       "      <th></th>\n",
       "      <th>id</th>\n",
       "      <th>type</th>\n",
       "      <th>CO</th>\n",
       "      <th>relativeHumidity</th>\n",
       "      <th>temperature</th>\n",
       "    </tr>\n",
       "  </thead>\n",
       "  <tbody>\n",
       "    <tr>\n",
       "      <th>0</th>\n",
       "      <td>AirQualityUnit01</td>\n",
       "      <td>AirQualityUnit</td>\n",
       "      <td>{'type': 'Number', 'value': '91', 'metadata': {}}</td>\n",
       "      <td>{'type': 'Number', 'value': '0', 'metadata': {}}</td>\n",
       "      <td>{'type': 'Number', 'value': '0', 'metadata': {}}</td>\n",
       "    </tr>\n",
       "  </tbody>\n",
       "</table>\n",
       "</div>"
      ]
     },
     "execution_count": 59,
     "metadata": {},
     "output_type": "execute_result"
    }
   ],
   "execution_count": 59
  },
  {
   "metadata": {},
   "cell_type": "markdown",
   "source": "## Complete transfer",
   "id": "b6a0cec99e7c17b2"
  },
  {
   "metadata": {
    "ExecuteTime": {
     "end_time": "2024-11-26T08:24:28.466269Z",
     "start_time": "2024-11-26T08:24:28.441974Z"
    }
   },
   "cell_type": "code",
   "source": [
    "url = data_space_consumer + \"/api/v1/complete-transfer\"\n",
    "\n",
    "payload = json.dumps({\n",
    "  \"consumerPid\": consumerPid\n",
    "})\n",
    "headers = {\n",
    "  'Content-Type': 'application/json'\n",
    "}\n",
    "\n",
    "response = requests.request(\"POST\", url, headers=headers, data=payload)\n",
    "\n",
    "pprint.pprint(response.json())"
   ],
   "id": "c21cace19c0e0b30",
   "outputs": [
    {
     "name": "stdout",
     "output_type": "stream",
     "text": [
      "{'consumerPid': 'urn:uuid:24769af9-0d78-4073-81c1-0741960a9833',\n",
      " 'transferProcess': {'@context': 'https://w3id.org/dspace/2024/1/context.json',\n",
      "                     '@type': 'dspace:TransferProcess',\n",
      "                     'dspace:consumerPid': 'urn:uuid:24769af9-0d78-4073-81c1-0741960a9833',\n",
      "                     'dspace:providerPid': 'urn:uuid:1e898d78-ae7f-46a2-b278-ee8d7439efdb',\n",
      "                     'dspace:state': 'dspace:COMPLETED'}}\n"
     ]
    }
   ],
   "execution_count": 60
  },
  {
   "metadata": {},
   "cell_type": "markdown",
   "source": "## Data is not accessible",
   "id": "562e38f8030d1a70"
  },
  {
   "metadata": {
    "ExecuteTime": {
     "end_time": "2024-11-26T08:24:30.071966Z",
     "start_time": "2024-11-26T08:24:30.034919Z"
    }
   },
   "cell_type": "code",
   "source": [
    "url = dataPlaneAddress\n",
    "url = url.replace(\"ds-consumer\", \"127.0.0.1\")\n",
    "\n",
    "df = pd.read_json(url)\n",
    "df"
   ],
   "id": "73e4bac8f5c94e52",
   "outputs": [
    {
     "data": {
      "text/plain": [
       "                 id            type  \\\n",
       "0  AirQualityUnit01  AirQualityUnit   \n",
       "\n",
       "                                                  CO  \\\n",
       "0  {'type': 'Number', 'value': '91', 'metadata': {}}   \n",
       "\n",
       "                                   relativeHumidity  \\\n",
       "0  {'type': 'Number', 'value': '0', 'metadata': {}}   \n",
       "\n",
       "                                        temperature  \n",
       "0  {'type': 'Number', 'value': '0', 'metadata': {}}  "
      ],
      "text/html": [
       "<div>\n",
       "<style scoped>\n",
       "    .dataframe tbody tr th:only-of-type {\n",
       "        vertical-align: middle;\n",
       "    }\n",
       "\n",
       "    .dataframe tbody tr th {\n",
       "        vertical-align: top;\n",
       "    }\n",
       "\n",
       "    .dataframe thead th {\n",
       "        text-align: right;\n",
       "    }\n",
       "</style>\n",
       "<table border=\"1\" class=\"dataframe\">\n",
       "  <thead>\n",
       "    <tr style=\"text-align: right;\">\n",
       "      <th></th>\n",
       "      <th>id</th>\n",
       "      <th>type</th>\n",
       "      <th>CO</th>\n",
       "      <th>relativeHumidity</th>\n",
       "      <th>temperature</th>\n",
       "    </tr>\n",
       "  </thead>\n",
       "  <tbody>\n",
       "    <tr>\n",
       "      <th>0</th>\n",
       "      <td>AirQualityUnit01</td>\n",
       "      <td>AirQualityUnit</td>\n",
       "      <td>{'type': 'Number', 'value': '91', 'metadata': {}}</td>\n",
       "      <td>{'type': 'Number', 'value': '0', 'metadata': {}}</td>\n",
       "      <td>{'type': 'Number', 'value': '0', 'metadata': {}}</td>\n",
       "    </tr>\n",
       "  </tbody>\n",
       "</table>\n",
       "</div>"
      ]
     },
     "execution_count": 61,
     "metadata": {},
     "output_type": "execute_result"
    }
   ],
   "execution_count": 61
  },
  {
   "metadata": {},
   "cell_type": "markdown",
   "source": "## Protocol state cannot change",
   "id": "59f9a127a11c5870"
  },
  {
   "metadata": {
    "ExecuteTime": {
     "end_time": "2024-11-26T08:24:31.182062Z",
     "start_time": "2024-11-26T08:24:31.141603Z"
    }
   },
   "cell_type": "code",
   "source": [
    "url = data_space_consumer + \"/api/v1/restart-transfer\"\n",
    "\n",
    "payload = json.dumps({\n",
    "  \"consumerPid\": consumerPid\n",
    "})\n",
    "headers = {\n",
    "  'Content-Type': 'application/json'\n",
    "}\n",
    "\n",
    "response = requests.request(\"POST\", url, headers=headers, data=payload)\n",
    "\n",
    "pprint.pprint(response.json())"
   ],
   "id": "fe5042010fcfd9bf",
   "outputs": [
    {
     "name": "stdout",
     "output_type": "stream",
     "text": [
      "{'consumerPid': 'urn:uuid:24769af9-0d78-4073-81c1-0741960a9833',\n",
      " 'error': {'@context': 'https://w3id.org/dspace/2024/1/context.json',\n",
      "           '@type': 'dspace:TransferError',\n",
      "           'dspace:code': 'TRANSFER_ERROR_CODE',\n",
      "           'dspace:consumerPid': '123',\n",
      "           'dspace:providerPid': '123',\n",
      "           'dspace:reason': ['Protocol Error. dspace:TransferRequestMessage is '\n",
      "                             'not allowed here. Current state is '\n",
      "                             'dspace:COMPLETED']}}\n"
     ]
    }
   ],
   "execution_count": 62
  },
  {
   "metadata": {},
   "cell_type": "code",
   "source": "",
   "id": "4cf907ee29639c57",
   "outputs": [],
   "execution_count": null
  }
 ],
 "metadata": {
  "kernelspec": {
   "display_name": "Python 3",
   "language": "python",
   "name": "python3"
  },
  "language_info": {
   "codemirror_mode": {
    "name": "ipython",
    "version": 2
   },
   "file_extension": ".py",
   "mimetype": "text/x-python",
   "name": "python",
   "nbconvert_exporter": "python",
   "pygments_lexer": "ipython2",
   "version": "2.7.6"
  }
 },
 "nbformat": 4,
 "nbformat_minor": 5
}
