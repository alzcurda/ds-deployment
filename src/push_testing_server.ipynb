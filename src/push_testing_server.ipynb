{
 "cells": [
  {
   "cell_type": "code",
   "id": "initial_id",
   "metadata": {
    "collapsed": true
   },
   "source": "!which python",
   "outputs": [],
   "execution_count": null
  },
  {
   "metadata": {},
   "cell_type": "code",
   "source": "!pip install flask",
   "id": "3a7dda1aef7db9b0",
   "outputs": [],
   "execution_count": null
  },
  {
   "metadata": {
    "ExecuteTime": {
     "end_time": "2024-11-21T10:00:44.600174Z",
     "start_time": "2024-11-21T10:00:44.540329Z"
    }
   },
   "cell_type": "code",
   "source": [
    "from flask import Flask, request, jsonify\n",
    "import json\n",
    "import time"
   ],
   "id": "af2197e04de51764",
   "outputs": [],
   "execution_count": 1
  },
  {
   "metadata": {
    "ExecuteTime": {
     "end_time": "2024-11-21T10:01:31.532012Z",
     "start_time": "2024-11-21T10:00:45.213105Z"
    }
   },
   "cell_type": "code",
   "source": [
    "\n",
    "app = Flask(__name__)\n",
    "\n",
    "@app.route('/data', methods=['POST'])\n",
    "def receive_data():\n",
    "    data = request.get_json()\n",
    "    if not data:\n",
    "        return jsonify({\"error\": \"No data provided\"}), 400\n",
    "\n",
    "    # Write data to a file (e.g., appending to a JSON or CSV file)    \n",
    "    timestamp = int(time.time() * 1000)  # Current time in milliseconds\n",
    "    filename = f\"data/fiware_stream_{timestamp}.json\"\n",
    "\n",
    "    # Write data to the new file\n",
    "    with open(filename, 'w') as f:\n",
    "        json.dump(data, f)\n",
    "\n",
    "    return jsonify({\"status\": \"Data received\"}), 200\n",
    "\n",
    "if __name__ == '__main__':\n",
    "    app.run(host='0.0.0.0', port=5000)"
   ],
   "id": "cbbe5def36831a14",
   "outputs": [
    {
     "name": "stdout",
     "output_type": "stream",
     "text": [
      " * Serving Flask app '__main__'\n",
      " * Debug mode: off\n"
     ]
    },
    {
     "name": "stderr",
     "output_type": "stream",
     "text": [
      "\u001B[31m\u001B[1mWARNING: This is a development server. Do not use it in a production deployment. Use a production WSGI server instead.\u001B[0m\n",
      " * Running on all addresses (0.0.0.0)\n",
      " * Running on http://127.0.0.1:5000\n",
      " * Running on http://192.168.1.129:5000\n",
      "\u001B[33mPress CTRL+C to quit\u001B[0m\n"
     ]
    }
   ],
   "execution_count": 2
  },
  {
   "metadata": {},
   "cell_type": "code",
   "outputs": [],
   "execution_count": null,
   "source": "",
   "id": "1a95721ff24c2a19"
  }
 ],
 "metadata": {
  "kernelspec": {
   "display_name": "Python 3",
   "language": "python",
   "name": "python3"
  },
  "language_info": {
   "codemirror_mode": {
    "name": "ipython",
    "version": 2
   },
   "file_extension": ".py",
   "mimetype": "text/x-python",
   "name": "python",
   "nbconvert_exporter": "python",
   "pygments_lexer": "ipython2",
   "version": "2.7.6"
  }
 },
 "nbformat": 4,
 "nbformat_minor": 5
}
