{
 "cells": [
  {
   "metadata": {
    "ExecuteTime": {
     "end_time": "2024-11-26T14:12:58.955010Z",
     "start_time": "2024-11-26T14:12:58.952550Z"
    }
   },
   "cell_type": "code",
   "source": [
    "\n",
    "import json\n",
    "import pprint\n",
    "\n",
    "import requests\n"
   ],
   "id": "989a9e0636f29b7c",
   "outputs": [],
   "execution_count": 44
  },
  {
   "metadata": {},
   "cell_type": "markdown",
   "source": [
    "# Testing HL Api for PUSH transfer\n",
    "\n",
    "---"
   ],
   "id": "816439ffdb0e6458"
  },
  {
   "metadata": {},
   "cell_type": "markdown",
   "source": "## Consts",
   "id": "95f97b84f15dc458"
  },
  {
   "metadata": {
    "ExecuteTime": {
     "end_time": "2024-11-26T14:12:58.977165Z",
     "start_time": "2024-11-26T14:12:58.974431Z"
    }
   },
   "cell_type": "code",
   "source": [
    "data_space_provider = \"http://127.0.0.1:1234\"\n",
    "data_space_consumer = \"http://127.0.0.1:1235\"\n",
    "context_broker = \"http://fiware-orion:1026\"\n",
    "streaming_processor = \"http://streaming-testing-service:1237\"\n",
    "\n",
    "catalog_id = \"\"\n",
    "dataservice_id = \"\"\n",
    "agreement_id = \"\"\n",
    "agreement_pid = \"\""
   ],
   "id": "1a6b380d457cc67a",
   "outputs": [],
   "execution_count": 45
  },
  {
   "metadata": {},
   "cell_type": "markdown",
   "source": "## Setup Catalog, Dataservice and agreements",
   "id": "ec79988f84f70160"
  },
  {
   "metadata": {
    "ExecuteTime": {
     "end_time": "2024-11-26T14:12:59.014535Z",
     "start_time": "2024-11-26T14:12:58.989069Z"
    }
   },
   "cell_type": "code",
   "source": [
    "payload = {\n",
    "    \"foaf:homepage\": \"My catalog in Dataspace provider\",\n",
    "    \"dct:title\": \"My catalog in Dataspace provider\"\n",
    "}\n",
    "headers = {\n",
    "    \"Content-Type\": \"application/json\",\n",
    "}\n",
    "url = data_space_provider + \"/api/v1/catalogs\"\n",
    "response = requests.request(\"POST\", url, headers=headers, data=json.dumps(payload))\n",
    "response_as_json = response.json()\n",
    "catalog_id = response_as_json[\"@id\"]\n",
    "\n",
    "pprint.pprint(response.json())"
   ],
   "id": "555b077d30626b7b",
   "outputs": [
    {
     "name": "stdout",
     "output_type": "stream",
     "text": [
      "{'@context': 'https://w3id.org/dspace/2024/1/context.json',\n",
      " '@id': 'c96317c7-34c2-48bf-8e18-cb91c284719e',\n",
      " '@type': 'dcat:Catalog',\n",
      " 'dcat:dataset': [],\n",
      " 'dcat:keyword': '',\n",
      " 'dcat:service': [],\n",
      " 'dcat:theme': '',\n",
      " 'dct:conformsTo': None,\n",
      " 'dct:creator': None,\n",
      " 'dct:description': [],\n",
      " 'dct:identifier': 'c96317c7-34c2-48bf-8e18-cb91c284719e',\n",
      " 'dct:issued': '2024-11-26T14:12:58.997708',\n",
      " 'dct:modified': None,\n",
      " 'dct:title': 'My catalog in Dataspace provider',\n",
      " 'dspace:extraFields': None,\n",
      " 'dspace:participantId': None,\n",
      " 'foaf:homepage': 'My catalog in Dataspace provider',\n",
      " 'odrl:hasPolicy': None}\n"
     ]
    }
   ],
   "execution_count": 46
  },
  {
   "metadata": {
    "ExecuteTime": {
     "end_time": "2024-11-26T14:12:59.030878Z",
     "start_time": "2024-11-26T14:12:59.021670Z"
    }
   },
   "cell_type": "code",
   "source": [
    "suscription_payload = {\n",
    "    \"description\": \"Air Quality Unit Subscription\",\n",
    "    \"subject\": {\n",
    "        \"entities\":[\n",
    "            {\"idPattern\":\".*\",\"type\":\"AirQualityUnit\"}],\n",
    "        \"condition\": {\n",
    "            \"attrs\":[\"CO\"]\n",
    "        }\n",
    "    },\n",
    "    \"notification\": {\n",
    "        \"http\": {\n",
    "            \"url\":\"$data_url\",\n",
    "        },\n",
    "    },\n",
    "    \"expires\":\"2040-01-01T14:00:00.00Z\",\n",
    "    \"throttling\":5\n",
    "}\n",
    "payload = {\n",
    "    \"dcat:endpointURL\": context_broker + \"/v2/subscriptions\",\n",
    "    \"dcat:endpointDescription\": json.dumps(suscription_payload),\n",
    "}\n",
    "headers = {\n",
    "    \"Content-Type\": \"application/json\",\n",
    "}\n",
    "url = data_space_provider + \"/api/v1/catalogs/\" + catalog_id + \"/data-services\"\n",
    "response = requests.request(\"POST\", url, headers=headers, data=json.dumps(payload))\n",
    "response_as_json = response.json()\n",
    "dataservice_id = response_as_json[\"@id\"]\n",
    "\n",
    "pprint.pprint(response.json())"
   ],
   "id": "5d4d2cb38a211249",
   "outputs": [
    {
     "name": "stdout",
     "output_type": "stream",
     "text": [
      "{'@context': 'https://w3id.org/dspace/2024/1/context.json',\n",
      " '@id': '654da3c7-9508-4768-b64d-f9823ce179a8',\n",
      " '@type': 'dcat:DataService',\n",
      " 'dcat:endpointDescription': '{\"description\": \"Air Quality Unit Subscription\", '\n",
      "                             '\"subject\": {\"entities\": [{\"idPattern\": \".*\", '\n",
      "                             '\"type\": \"AirQualityUnit\"}], \"condition\": '\n",
      "                             '{\"attrs\": [\"CO\"]}}, \"notification\": {\"http\": '\n",
      "                             '{\"url\": \"$data_url\"}}, \"expires\": '\n",
      "                             '\"2040-01-01T14:00:00.00Z\", \"throttling\": 5}',\n",
      " 'dcat:endpointURL': 'http://fiware-orion:1026/v2/subscriptions',\n",
      " 'dcat:keyword': '',\n",
      " 'dcat:theme': '',\n",
      " 'dct:conformsTo': None,\n",
      " 'dct:creator': None,\n",
      " 'dct:description': [],\n",
      " 'dct:identifier': '654da3c7-9508-4768-b64d-f9823ce179a8',\n",
      " 'dct:issued': '2024-11-26T14:12:59.027257',\n",
      " 'dct:modified': None,\n",
      " 'dct:title': None,\n",
      " 'dspace:extraFields': None,\n",
      " 'odrl:hasPolicy': None}\n"
     ]
    }
   ],
   "execution_count": 47
  },
  {
   "metadata": {
    "ExecuteTime": {
     "end_time": "2024-11-26T14:12:59.045996Z",
     "start_time": "2024-11-26T14:12:59.038383Z"
    }
   },
   "cell_type": "code",
   "source": [
    "payload = {\n",
    "    \"dataServiceId\": dataservice_id\n",
    "}\n",
    "headers = {\n",
    "    \"Content-Type\": \"application/json\",\n",
    "}\n",
    "url = data_space_provider + \"/api/v1/agreements\"\n",
    "response = requests.request(\"POST\", url, headers=headers, data=json.dumps(payload))\n",
    "response_as_json = response.json()\n",
    "agreement_id = response_as_json[\"agreement_id\"]\n",
    "agreement_pid = \"urn:uuid:\" + agreement_id\n",
    "\n",
    "pprint.pprint(response.json())"
   ],
   "id": "25290b3665e33e20",
   "outputs": [
    {
     "name": "stdout",
     "output_type": "stream",
     "text": [
      "{'agreement_id': '985c9168-b50a-40b1-a7d5-47086d3cb97b',\n",
      " 'data_service_id': '654da3c7-9508-4768-b64d-f9823ce179a8',\n",
      " 'identity': None,\n",
      " 'identity_token': None}\n"
     ]
    }
   ],
   "execution_count": 48
  },
  {
   "metadata": {},
   "cell_type": "markdown",
   "source": "## Setup transfer",
   "id": "a6c666719db9c5bd"
  },
  {
   "metadata": {
    "ExecuteTime": {
     "end_time": "2024-11-26T14:12:59.062480Z",
     "start_time": "2024-11-26T14:12:59.053266Z"
    }
   },
   "cell_type": "code",
   "source": [
    "url = data_space_consumer + \"/api/v1/setup-transfer\"\n",
    "\n",
    "payload = \"\"\n",
    "headers = {}\n",
    "response = requests.request(\"POST\", url, headers=headers, data=payload)\n",
    "callbackAddress = response.json()[\"callbackAddress\"]\n",
    "callbackId = response.json()[\"callbackId\"]\n",
    "consumerPid = response.json()[\"consumerPid\"]\n",
    "\n",
    "pprint.pprint(response.json())"
   ],
   "id": "63da758197754949",
   "outputs": [
    {
     "name": "stdout",
     "output_type": "stream",
     "text": [
      "{'callbackAddress': 'http://ds-consumer:1235/3d328f05-173f-42a0-bdaf-6a2d70656430',\n",
      " 'callbackId': '3d328f05-173f-42a0-bdaf-6a2d70656430',\n",
      " 'consumerPid': 'urn:uuid:f2d4267a-0afb-4442-a920-b66d9c89f090'}\n"
     ]
    }
   ],
   "execution_count": 49
  },
  {
   "metadata": {},
   "cell_type": "markdown",
   "source": "## Request transfer",
   "id": "7d165ae8bcaf6fe8"
  },
  {
   "metadata": {
    "ExecuteTime": {
     "end_time": "2024-11-26T14:12:59.117821Z",
     "start_time": "2024-11-26T14:12:59.068946Z"
    }
   },
   "cell_type": "code",
   "source": [
    "url = data_space_consumer + \"/api/v1/request-transfer\"\n",
    "\n",
    "payload = json.dumps({\n",
    "    \"agreementId\": agreement_pid,\n",
    "    \"format\": \"fiware+push\",\n",
    "    \"dataAddress\": {\n",
    "        \"@type\": \"dspace:DataAddress\",\n",
    "        \"dspace:endpoint\": \"http://host.docker.internal:5000/data\",\n",
    "        \"dspace:endpointType\": \"HTTP\",\n",
    "        \"dspace:endpointProperties\": []\n",
    "    },\n",
    "    \"callbackAddress\": callbackAddress,\n",
    "    \"callbackId\": callbackId,\n",
    "    \"consumerPid\": consumerPid\n",
    "})\n",
    "headers = {\n",
    "  'Content-Type': 'application/json'\n",
    "}\n",
    "\n",
    "response = requests.request(\"POST\", url, headers=headers, data=payload)\n",
    "\n",
    "pprint.pprint(response.json())\n"
   ],
   "id": "606c992298872d96",
   "outputs": [
    {
     "name": "stdout",
     "output_type": "stream",
     "text": [
      "{'consumerPid': 'urn:uuid:f2d4267a-0afb-4442-a920-b66d9c89f090',\n",
      " 'transferProcess': {'@context': 'https://w3id.org/dspace/2024/1/context.json',\n",
      "                     '@type': 'dspace:TransferProcess',\n",
      "                     'dspace:consumerPid': 'urn:uuid:f2d4267a-0afb-4442-a920-b66d9c89f090',\n",
      "                     'dspace:providerPid': 'urn:uuid:b744e172-3e1a-4093-ba03-958a5e42acc3',\n",
      "                     'dspace:state': 'dspace:REQUESTED'}}\n"
     ]
    }
   ],
   "execution_count": 50
  },
  {
   "metadata": {},
   "cell_type": "markdown",
   "source": "#### For seeing how the push service is working, please check the logs in the streaming-testing-service",
   "id": "c59642aceabb5aa1"
  },
  {
   "metadata": {},
   "cell_type": "markdown",
   "source": "## Server",
   "id": "185a1ac9521b8ecf"
  },
  {
   "metadata": {
    "ExecuteTime": {
     "end_time": "2024-11-26T14:21:01.150179Z",
     "start_time": "2024-11-26T14:20:26.575513Z"
    }
   },
   "cell_type": "code",
   "source": [
    "from flask import Flask, request, jsonify\n",
    "import json\n",
    "import time\n",
    "\n",
    "app = Flask(__name__)\n",
    "\n",
    "@app.route('/data', methods=['POST'])\n",
    "def receive_data():\n",
    "    data = json.loads(request.get_data())\n",
    "    timestamp = int(time.time() * 1000)\n",
    "    filename = f\"data/fiware_stream_{timestamp}.json\"\n",
    "    with open(filename, 'w') as f:\n",
    "        json.dump(data, f)\n",
    "\n",
    "    return jsonify({\"status\": \"Data received\"}), 200\n",
    "\n",
    "if __name__ == '__main__':\n",
    "    app.run(host='0.0.0.0', port=5000)"
   ],
   "id": "f1f818cc2a6a3265",
   "outputs": [
    {
     "name": "stdout",
     "output_type": "stream",
     "text": [
      " * Serving Flask app '__main__'\n",
      " * Debug mode: off\n"
     ]
    },
    {
     "name": "stderr",
     "output_type": "stream",
     "text": [
      "\u001B[31m\u001B[1mWARNING: This is a development server. Do not use it in a production deployment. Use a production WSGI server instead.\u001B[0m\n",
      " * Running on all addresses (0.0.0.0)\n",
      " * Running on http://127.0.0.1:5000\n",
      " * Running on http://10.153.52.22:5000\n",
      "\u001B[33mPress CTRL+C to quit\u001B[0m\n",
      "127.0.0.1 - - [26/Nov/2024 15:20:28] \"POST /data HTTP/1.1\" 200 -\n",
      "127.0.0.1 - - [26/Nov/2024 15:20:28] \"POST /data HTTP/1.1\" 200 -\n",
      "127.0.0.1 - - [26/Nov/2024 15:20:33] \"POST /data HTTP/1.1\" 200 -\n",
      "127.0.0.1 - - [26/Nov/2024 15:20:33] \"POST /data HTTP/1.1\" 200 -\n",
      "127.0.0.1 - - [26/Nov/2024 15:20:38] \"POST /data HTTP/1.1\" 200 -\n",
      "127.0.0.1 - - [26/Nov/2024 15:20:38] \"POST /data HTTP/1.1\" 200 -\n",
      "127.0.0.1 - - [26/Nov/2024 15:20:43] \"POST /data HTTP/1.1\" 200 -\n",
      "127.0.0.1 - - [26/Nov/2024 15:20:43] \"POST /data HTTP/1.1\" 200 -\n",
      "127.0.0.1 - - [26/Nov/2024 15:20:48] \"POST /data HTTP/1.1\" 200 -\n",
      "127.0.0.1 - - [26/Nov/2024 15:20:48] \"POST /data HTTP/1.1\" 200 -\n",
      "127.0.0.1 - - [26/Nov/2024 15:20:54] \"POST /data HTTP/1.1\" 200 -\n",
      "127.0.0.1 - - [26/Nov/2024 15:20:54] \"POST /data HTTP/1.1\" 200 -\n",
      "127.0.0.1 - - [26/Nov/2024 15:20:59] \"POST /data HTTP/1.1\" 200 -\n",
      "127.0.0.1 - - [26/Nov/2024 15:20:59] \"POST /data HTTP/1.1\" 200 -\n"
     ]
    }
   ],
   "execution_count": 59
  },
  {
   "metadata": {},
   "cell_type": "code",
   "outputs": [],
   "execution_count": null,
   "source": "",
   "id": "2b369012e1720e6a"
  }
 ],
 "metadata": {
  "kernelspec": {
   "display_name": "Python 3",
   "language": "python",
   "name": "python3"
  },
  "language_info": {
   "codemirror_mode": {
    "name": "ipython",
    "version": 2
   },
   "file_extension": ".py",
   "mimetype": "text/x-python",
   "name": "python",
   "nbconvert_exporter": "python",
   "pygments_lexer": "ipython2",
   "version": "2.7.6"
  }
 },
 "nbformat": 4,
 "nbformat_minor": 5
}
